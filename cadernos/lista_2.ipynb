{
 "cells": [
  {
   "cell_type": "markdown",
   "source": [
    " <span style=\"font-size:250%;\">**Lista 1**</span>"
   ],
   "metadata": {}
  },
  {
   "cell_type": "markdown",
   "source": [
    "# Setup (rodar antes de qualquer outra célula)"
   ],
   "metadata": {}
  },
  {
   "cell_type": "code",
   "execution_count": 1,
   "source": [
    "import sympy as sp\r\n",
    "import sympy.physics.vector as vec\r\n",
    "from mecvoo import *\r\n",
    "from sympy.physics.mechanics import vlatex\r\n"
   ],
   "outputs": [],
   "metadata": {}
  },
  {
   "cell_type": "markdown",
   "source": [
    "# 1\r\n",
    "Utilizando  o  Teorema  de  Coriolis,  calcule $[\\dot{V}_{NED}]_b$ em  função de $\\omega_b^{b, NED} = \\begin{bmatrix} P & Q & R \\end{bmatrix}$, $\\dot{V}_b = \\begin{bmatrix} \\dot{U} & \\dot{V} & \\dot{W} \\end{bmatrix}$ e $V_b = \\begin{bmatrix} U & V & W \\end{bmatrix}$. Obs:\r\n",
    "* Fornecer resposta em formato vetorial e componente a componente.\r\n",
    "* $[\\dot{V}_{NED}]_b$ é a derivada da velocidade avaliada no sistema NED, mas representada em $S_b$.\r\n",
    "* Veja que todos os vetores estão em $S_b$, não há necessidade de conversão de sistema de referência.\r\n",
    "* Teorema de Coriolis: $\\dot{v}_b = \\dot{v}_a + \\omega^{ab}\\times v$"
   ],
   "metadata": {}
  },
  {
   "cell_type": "code",
   "execution_count": 2,
   "source": [
    "b = vec.ReferenceFrame(\"b\")\r\n",
    "\r\n",
    "t = sp.symbols(\"t\")\r\n",
    "V = vector(vec.dynamicsymbols(\"U:W\"), b)\r\n",
    "omega_b_NED = vector(vec.dynamicsymbols(\"P:R\"), b)\r\n",
    "math(r\"\\dot{V}\\rvert_{NED} = \\dot{V}\\rvert_b + \\omega^{b,NED}\\times V\")\r\n",
    "math(\r\n",
    "    r\"[\\dot{V}\\rvert_{NED}]_b = \"\r\n",
    "    + vlatex(V.to_matrix(b))\r\n",
    "    + \"+\"\r\n",
    "    + vlatex(omega_b_NED.to_matrix(b))\r\n",
    "    + r\"\\times\"\r\n",
    "    + vlatex(V.to_matrix(b))\r\n",
    "    + \"= \"\r\n",
    "    + vlatex((V.diff(t, b) + omega_b_NED.cross(V)).to_matrix(b))\r\n",
    ")\r\n"
   ],
   "outputs": [
    {
     "output_type": "display_data",
     "data": {
      "text/plain": [
       "<IPython.core.display.Math object>"
      ],
      "text/latex": [
       "$\\displaystyle \\dot{V}\\rvert_{NED} = \\dot{V}\\rvert_b + \\omega^{b,NED}\\times V$"
      ]
     },
     "metadata": {}
    },
    {
     "output_type": "display_data",
     "data": {
      "text/plain": [
       "<IPython.core.display.Math object>"
      ],
      "text/latex": [
       "$\\displaystyle [\\dot{V}\\rvert_{NED}]_b = \\left[\\begin{matrix}U\\\\V\\\\W\\end{matrix}\\right]+\\left[\\begin{matrix}P\\\\Q\\\\R\\end{matrix}\\right]\\times\\left[\\begin{matrix}U\\\\V\\\\W\\end{matrix}\\right]= \\left[\\begin{matrix}Q W - R V + \\dot{U}\\\\- P W + R U + \\dot{V}\\\\P V - Q U + \\dot{W}\\end{matrix}\\right]$"
      ]
     },
     "metadata": {}
    }
   ],
   "metadata": {}
  },
  {
   "cell_type": "markdown",
   "source": [
    "# 2\r\n",
    "É possível entender o significado físico dos diversos termos que compõem a aceleração inercial  através  da  análise  do  movimento  de  uma  mosca  sobre  um  discogirante. Examine as componentes da aceleração sofrida pela mosca quando ela:"
   ],
   "metadata": {}
  },
  {
   "cell_type": "code",
   "execution_count": 3,
   "source": [
    "omega, psi = vec.dynamicsymbols(\"omega, psi\", reals=True)\r\n",
    "t = sp.symbols(\"t\")\r\n",
    "fix = vec.ReferenceFrame(\"fix\")\r\n",
    "disc = fix.orientnew(\"disc\", \"Axis\", (psi, fix.z))\r\n",
    "x, y, z = vec.dynamicsymbols(\"x, y, z\", reals=True)\r\n",
    "\r\n",
    "w_subs = {psi.diff(t): omega}\r\n",
    "\r\n",
    "p = vector((x, y, z), disc)\r\n",
    "v = p.diff(t, fix).subs(w_subs)\r\n",
    "a = v.diff(t, fix).subs(w_subs)\r\n",
    "# a_ = sp.simplify(a.to_matrix(fix)).subs(w_subs)\r\n"
   ],
   "outputs": [],
   "metadata": {}
  },
  {
   "cell_type": "markdown",
   "source": [
    "## i.\r\n",
    "Está estacionada sobreo disco girando com velocidade angular constante"
   ],
   "metadata": {}
  },
  {
   "cell_type": "code",
   "execution_count": 4,
   "source": [
    "R = sp.symbols(\"R\")\r\n",
    "\r\n",
    "# Sem perda de generalização, podemos alinhar um dos eixos do disco com a\r\n",
    "# posição da mosca e assumir a componente da posição perpendicular ao disco\r\n",
    "# como 0\r\n",
    "stationary = {\r\n",
    "    x: R,\r\n",
    "    y: 0,\r\n",
    "    z: 0,\r\n",
    "}\r\n",
    "omega_const = {\r\n",
    "    omega.diff(t): 0,\r\n",
    "}\r\n",
    "\r\n",
    "math(\r\n",
    "    \"[a]_i = \"\r\n",
    "    + vlatex(sp.simplify(a.subs(stationary).subs(omega_const).to_matrix(fix)))\r\n",
    ")\r\n",
    "math(\r\n",
    "    \"[a]_d = \" + vlatex(sp.simplify(a.subs(stationary).subs(omega_const).to_matrix(disc)))\r\n",
    ")\r\n"
   ],
   "outputs": [
    {
     "output_type": "display_data",
     "data": {
      "text/plain": [
       "<IPython.core.display.Math object>"
      ],
      "text/latex": [
       "$\\displaystyle [a]_i = \\left[\\begin{matrix}- R \\omega^{2} \\cos{\\left(\\psi \\right)}\\\\- R \\omega^{2} \\sin{\\left(\\psi \\right)}\\\\0\\end{matrix}\\right]$"
      ]
     },
     "metadata": {}
    },
    {
     "output_type": "display_data",
     "data": {
      "text/plain": [
       "<IPython.core.display.Math object>"
      ],
      "text/latex": [
       "$\\displaystyle [a]_d = \\left[\\begin{matrix}- R \\omega^{2}\\\\0\\\\0\\end{matrix}\\right]$"
      ]
     },
     "metadata": {}
    }
   ],
   "metadata": {}
  },
  {
   "cell_type": "markdown",
   "source": [
    "## ii.\r\n",
    "Está estacionada sobre o disco girando com velocidade angular variável"
   ],
   "metadata": {}
  },
  {
   "cell_type": "code",
   "execution_count": 5,
   "source": [
    "math(\"[a]_i = \" f\"{vlatex(sp.simplify(a.subs(stationary).to_matrix(fix)))}\")\r\n",
    "math(\"[a]_d = \" f\"{vlatex(sp.simplify(a.subs(stationary).to_matrix(disc)))}\")\r\n"
   ],
   "outputs": [
    {
     "output_type": "display_data",
     "data": {
      "text/plain": [
       "<IPython.core.display.Math object>"
      ],
      "text/latex": [
       "$\\displaystyle [a]_i = \\left[\\begin{matrix}- R \\omega^{2} \\cos{\\left(\\psi \\right)} - R \\sin{\\left(\\psi \\right)} \\dot{\\omega}\\\\- R \\omega^{2} \\sin{\\left(\\psi \\right)} + R \\cos{\\left(\\psi \\right)} \\dot{\\omega}\\\\0\\end{matrix}\\right]$"
      ]
     },
     "metadata": {}
    },
    {
     "output_type": "display_data",
     "data": {
      "text/plain": [
       "<IPython.core.display.Math object>"
      ],
      "text/latex": [
       "$\\displaystyle [a]_d = \\left[\\begin{matrix}- R \\omega^{2}\\\\R \\dot{\\omega}\\\\0\\end{matrix}\\right]$"
      ]
     },
     "metadata": {}
    }
   ],
   "metadata": {}
  },
  {
   "cell_type": "markdown",
   "source": [
    "## iii.\r\n",
    "Se move em direção ao centro do disco girante com velocidade aparente $V$"
   ],
   "metadata": {}
  },
  {
   "cell_type": "code",
   "execution_count": 6,
   "source": [
    "V = sp.symbols(\"V\")\r\n",
    "\r\n",
    "radial_v = {\r\n",
    "    x: R,\r\n",
    "    x.diff(t): -V,\r\n",
    "    y: 0,\r\n",
    "    z: 0,\r\n",
    "}\r\n",
    "# math(vlatex(sp.simplify(a_.subs(subs_2_3))))\r\n",
    "# math(vlatex(sp.simplify(a_.subs(subs_2_3) - a_.subs(subs_2_2))))\r\n",
    "math(\"[a]_i = \" f\"{vlatex(sp.simplify(a.subs(radial_v).to_matrix(fix)))}\")\r\n",
    "math(\"[a]_d = \" f\"{vlatex(sp.simplify(a.subs(radial_v).to_matrix(disc)))}\")\r\n"
   ],
   "outputs": [
    {
     "output_type": "display_data",
     "data": {
      "text/plain": [
       "<IPython.core.display.Math object>"
      ],
      "text/latex": [
       "$\\displaystyle [a]_i = \\left[\\begin{matrix}- R \\omega^{2} \\cos{\\left(\\psi \\right)} - R \\sin{\\left(\\psi \\right)} \\dot{\\omega} + 2 V \\omega \\sin{\\left(\\psi \\right)}\\\\- R \\omega^{2} \\sin{\\left(\\psi \\right)} + R \\cos{\\left(\\psi \\right)} \\dot{\\omega} - 2 V \\omega \\cos{\\left(\\psi \\right)}\\\\0\\end{matrix}\\right]$"
      ]
     },
     "metadata": {}
    },
    {
     "output_type": "display_data",
     "data": {
      "text/plain": [
       "<IPython.core.display.Math object>"
      ],
      "text/latex": [
       "$\\displaystyle [a]_d = \\left[\\begin{matrix}- R \\omega^{2}\\\\R \\dot{\\omega} - 2 V \\omega\\\\0\\end{matrix}\\right]$"
      ]
     },
     "metadata": {}
    }
   ],
   "metadata": {}
  },
  {
   "cell_type": "markdown",
   "source": [
    "## iv.\r\n",
    "Se move em direção perpendicular a $R$ com velocidade aparente $V$."
   ],
   "metadata": {}
  },
  {
   "cell_type": "code",
   "execution_count": 7,
   "source": [
    "V = sp.symbols(\"V\")\r\n",
    "phi = vec.dynamicsymbols(\"phi\")\r\n",
    "tangent_v = {\r\n",
    "    x: R * sp.cos(V * t / R),\r\n",
    "    y: R * sp.sin(V * t / R),\r\n",
    "    z: 0,\r\n",
    "}\r\n",
    "math(\r\n",
    "    \"[a]_i = \"\r\n",
    "    f\"{vlatex(sp.simplify(a.subs(tangent_v).to_matrix(fix)).subs(V * t / R, phi))}\"\r\n",
    ")\r\n",
    "math(\r\n",
    "    \"[a]_d = \"\r\n",
    "    f\"{vlatex(sp.simplify(a.subs(tangent_v).to_matrix(disc)).subs(V * t / R, phi))}\"\r\n",
    ")\r\n"
   ],
   "outputs": [
    {
     "output_type": "display_data",
     "data": {
      "text/plain": [
       "<IPython.core.display.Math object>"
      ],
      "text/latex": [
       "$\\displaystyle [a]_i = \\left[\\begin{matrix}- R \\omega^{2} \\cos{\\left(\\phi + \\psi \\right)} - R \\sin{\\left(\\phi + \\psi \\right)} \\dot{\\omega} + 2 V \\omega \\sin{\\left(\\phi \\right)} \\sin{\\left(\\psi \\right)} - 2 V \\omega \\cos{\\left(\\phi \\right)} \\cos{\\left(\\psi \\right)} + \\frac{V^{2} \\sin{\\left(\\phi \\right)} \\sin{\\left(\\psi \\right)}}{R} - \\frac{V^{2} \\cos{\\left(\\phi \\right)} \\cos{\\left(\\psi \\right)}}{R}\\\\- R \\omega^{2} \\sin{\\left(\\phi + \\psi \\right)} + R \\cos{\\left(\\phi + \\psi \\right)} \\dot{\\omega} - 2 V \\omega \\sin{\\left(\\phi \\right)} \\cos{\\left(\\psi \\right)} - 2 V \\omega \\sin{\\left(\\psi \\right)} \\cos{\\left(\\phi \\right)} - \\frac{V^{2} \\sin{\\left(\\phi \\right)} \\cos{\\left(\\psi \\right)}}{R} - \\frac{V^{2} \\sin{\\left(\\psi \\right)} \\cos{\\left(\\phi \\right)}}{R}\\\\0\\end{matrix}\\right]$"
      ]
     },
     "metadata": {}
    },
    {
     "output_type": "display_data",
     "data": {
      "text/plain": [
       "<IPython.core.display.Math object>"
      ],
      "text/latex": [
       "$\\displaystyle [a]_d = \\left[\\begin{matrix}- R \\omega^{2} \\cos{\\left(\\phi \\right)} - R \\sin{\\left(\\phi \\right)} \\dot{\\omega} - 2 V \\omega \\cos{\\left(\\phi \\right)} - \\frac{V^{2} \\cos{\\left(\\phi \\right)}}{R}\\\\- R \\omega^{2} \\sin{\\left(\\phi \\right)} + R \\cos{\\left(\\phi \\right)} \\dot{\\omega} - 2 V \\omega \\sin{\\left(\\phi \\right)} - \\frac{V^{2} \\sin{\\left(\\phi \\right)}}{R}\\\\0\\end{matrix}\\right]$"
      ]
     },
     "metadata": {}
    }
   ],
   "metadata": {}
  },
  {
   "cell_type": "markdown",
   "source": [
    "# 3\r\n",
    "Supondo um objeto de massa constante, tem-se que $F = m \\ddot{r}_i$, em que $F$ é a força total (ou seja, o somatório de forças) aplicada, $r$ é a posição do objeto, e o duplo “i” indica derivada no sistema inercial. Utilizandoa aproximação de Terra plana, o sistema $S_{NED}$ pode  ser  considerado  inercial e,  portanto, $\\ddot{r}_i = V_{NED}$.  Com  as  informações  acima e utilizando a questão 1, escreva $V_b$ em função de $m$, $F_b = \\begin{bmatrix} F_x & F_y & F_z \\end{bmatrix}$, $\\omega_b^{b,NED}$ e $V_b$. Escreva nas formas vetorial e componente a componente."
   ],
   "metadata": {}
  },
  {
   "cell_type": "code",
   "execution_count": 8,
   "source": [
    "math(r\"\\dot{V}_{NED} = \\dot{V}_b + \\omega^{b,NED} \\times V\")\r\n",
    "math(r\"F = m \\ddot{r}_i = m \\dot{V}_{NED} \\Rightarrow \\dot{V}_{NED} = \\frac{F}{m}\")\r\n",
    "math(r\"\\dot{V}_b = \\frac{F}{m} - \\omega^{b,NED} \\times V\")"
   ],
   "outputs": [
    {
     "output_type": "display_data",
     "data": {
      "text/plain": [
       "<IPython.core.display.Math object>"
      ],
      "text/latex": [
       "$\\displaystyle \\dot{V}_{NED} = \\dot{V}_b + \\omega^{b,NED} \\times V$"
      ]
     },
     "metadata": {}
    },
    {
     "output_type": "display_data",
     "data": {
      "text/plain": [
       "<IPython.core.display.Math object>"
      ],
      "text/latex": [
       "$\\displaystyle F = m \\ddot{r}_i = m \\dot{V}_{NED} \\Rightarrow \\dot{V}_{NED} = \\frac{F}{m}$"
      ]
     },
     "metadata": {}
    },
    {
     "output_type": "display_data",
     "data": {
      "text/plain": [
       "<IPython.core.display.Math object>"
      ],
      "text/latex": [
       "$\\displaystyle \\dot{V}_b = \\frac{F}{m} - \\omega^{b,NED} \\times V$"
      ]
     },
     "metadata": {}
    }
   ],
   "metadata": {}
  },
  {
   "cell_type": "code",
   "execution_count": 9,
   "source": [
    "F = vector(sp.symbols(\"F_x:z\"), b)\r\n",
    "omega = vector(sp.symbols(\"P:R\"), b)\r\n",
    "V = vector(sp.symbols(\"U:W\"), b)\r\n",
    "m = sp.symbols(\"m\")\r\n",
    "math(\r\n",
    "    r\"[\\dot{V}_b]_b = \"\r\n",
    "    + vlatex(1 / sp.Symbol(\"m\"))\r\n",
    "    + vlatex(F.to_matrix(b))\r\n",
    "    + \" - \"\r\n",
    "    + vlatex(omega_b_NED.to_matrix(b))\r\n",
    "    + r\"\\times \"\r\n",
    "    + vlatex(V.to_matrix(b))\r\n",
    "    + \" = \"\r\n",
    "    + vlatex((F / m - omega.cross(V)).to_matrix(b))\r\n",
    ")\r\n"
   ],
   "outputs": [
    {
     "output_type": "display_data",
     "data": {
      "text/plain": [
       "<IPython.core.display.Math object>"
      ],
      "text/latex": [
       "$\\displaystyle [\\dot{V}_b]_b = \\frac{1}{m}\\left[\\begin{matrix}F_{x}\\\\F_{y}\\\\F_{z}\\end{matrix}\\right] - \\left[\\begin{matrix}P\\\\Q\\\\R\\end{matrix}\\right]\\times \\left[\\begin{matrix}U\\\\V\\\\W\\end{matrix}\\right] = \\left[\\begin{matrix}\\frac{F_{x}}{m} - Q W + R V\\\\\\frac{F_{y}}{m} + P W - R U\\\\\\frac{F_{z}}{m} - P V + Q U\\end{matrix}\\right]$"
      ]
     },
     "metadata": {}
    }
   ],
   "metadata": {}
  },
  {
   "cell_type": "markdown",
   "source": [
    "# 4\r\n",
    "Acelerômetros medem  o  somatório  das  forças  específicas  ($F/m$),  excetuando  a  força específica  gerada  pela  gravidade (para  todos  os  efeitos  práticos,  força  específica é  o mesmo  que  aceleração em  relação  ao  sistema  inercial).  Uma  forma  de  instalar acelerômetros é prendê-lo à aeronave com eixos alinhados, de forma que o sistema de coordenadas  do  sensor  é  igual  ao  da  aeronave. Considerando um  acelerômetro instalado no centro de massa de uma aeronave, qual é sua medida ${a'}_b$? Tente fornecer respostas  distintas, em função de $\\dot{V}_{NED}$, de $\\dot{V}_b$ e  das forças.  Obs:  decomponha $F_b = F_{b,A} + F_{b,T} + m D_b^{NED} g_{NED}$ ao fornecer a resposta em função de forças, em que $F_{b, A}$ são forças de origem aerodinâmica e $F_{b, T}$ são forças de origem propulsiva."
   ],
   "metadata": {}
  },
  {
   "cell_type": "code",
   "execution_count": 10,
   "source": [
    "math(r\"a'_b = \\left[ a'_i \\right]_b = \\left[a_i - g \\right]_b\")\r\n",
    "math(r\"a'_b = \\left[ \\dot{V}_{NED} - g \\right]_b\")\r\n",
    "math(r\"a'_b = \\left[ \\dot{V}_b + \\omega^{b,NED} \\times V - g \\right]_b\")\r\n",
    "math(\r\n",
    "    r\"a'_b\"\r\n",
    "    r\"= \\left[ \\frac{\\sum{F}}{m}  - g \\right]_b\"\r\n",
    "    r\"= \\left[ \\frac{F_{b,A} + F_{b,T}}{m} \\right]_b\"\r\n",
    ")\r\n"
   ],
   "outputs": [
    {
     "output_type": "display_data",
     "data": {
      "text/plain": [
       "<IPython.core.display.Math object>"
      ],
      "text/latex": [
       "$\\displaystyle a'_b = \\left[ a'_i \\right]_b = \\left[a_i - g \\right]_b$"
      ]
     },
     "metadata": {}
    },
    {
     "output_type": "display_data",
     "data": {
      "text/plain": [
       "<IPython.core.display.Math object>"
      ],
      "text/latex": [
       "$\\displaystyle a'_b = \\left[ \\dot{V}_{NED} - g \\right]_b$"
      ]
     },
     "metadata": {}
    },
    {
     "output_type": "display_data",
     "data": {
      "text/plain": [
       "<IPython.core.display.Math object>"
      ],
      "text/latex": [
       "$\\displaystyle a'_b = \\left[ \\dot{V}_b + \\omega^{b,NED} \\times V - g \\right]_b$"
      ]
     },
     "metadata": {}
    },
    {
     "output_type": "display_data",
     "data": {
      "text/plain": [
       "<IPython.core.display.Math object>"
      ],
      "text/latex": [
       "$\\displaystyle a'_b= \\left[ \\frac{\\sum{F}}{m}  - g \\right]_b= \\left[ \\frac{F_{b,A} + F_{b,T}}{m} \\right]_b$"
      ]
     },
     "metadata": {}
    }
   ],
   "metadata": {}
  },
  {
   "cell_type": "markdown",
   "source": [
    "# 5\r\n",
    "Como obter $\\dot{V}_b$ a partir de $a'_b$?"
   ],
   "metadata": {}
  },
  {
   "cell_type": "code",
   "execution_count": 11,
   "source": [
    "math(r\"\\dot{V}_b = a'_b + g - \\omega^{b,NED} \\times V\")\r\n"
   ],
   "outputs": [
    {
     "output_type": "display_data",
     "data": {
      "text/plain": [
       "<IPython.core.display.Math object>"
      ],
      "text/latex": [
       "$\\displaystyle \\dot{V}_b = a'_b + g - \\omega^{b,NED} \\times V$"
      ]
     },
     "metadata": {}
    }
   ],
   "metadata": {}
  },
  {
   "cell_type": "markdown",
   "source": [
    "# 6\r\n",
    "Considere agora que o acelerômetro está instalado em uma posição $r'$ fixa em relação ao centro de massada aeronave. Sabendo que a aceleração inercial do acelerômetro é dada por ${\\ddot{r}_{AC}}_i = {\\ddot{r}_{CG}}_i + \\ddot{r'}_i = \\dot{V}_i + \\ddot{r'}_i$, obtenha:"
   ],
   "metadata": {}
  },
  {
   "cell_type": "markdown",
   "source": [
    "## i\r\n",
    "$[a']_b$"
   ],
   "metadata": {}
  },
  {
   "cell_type": "code",
   "execution_count": 12,
   "source": [
    "# First derivative of r'\r\n",
    "math(r\"\\dot{r'}_i = \\dot{r'}_b + \\omega \\times r' = \\omega \\times r'\")\r\n"
   ],
   "outputs": [
    {
     "output_type": "display_data",
     "data": {
      "text/plain": [
       "<IPython.core.display.Math object>"
      ],
      "text/latex": [
       "$\\displaystyle \\dot{r'}_i = \\dot{r'}_b + \\omega \\times r' = \\omega \\times r'$"
      ]
     },
     "metadata": {}
    }
   ],
   "metadata": {}
  },
  {
   "cell_type": "code",
   "execution_count": 13,
   "source": [
    "# Second derivative of r'\r\n",
    "math(r\"\\ddot{r'}_i = \\dot{(\\dot{r'}_i)}_b + \\omega \\times \\dot{r'}_i\")\r\n",
    "math(r\"\\ddot{r'}_i = \\dot{(\\omega \\times r')}_b + \\omega \\times (\\omega \\times r')\")\r\n",
    "math(\r\n",
    "    r\"\\ddot{r'}_i\"\r\n",
    "    r\"= \\dot{\\omega}_b \\times r' + \\omega \\times \\dot{r'}_b\"\r\n",
    "    r\"+ \\omega \\times (\\omega \\times r')\"\r\n",
    ")\r\n",
    "math(r\"\\ddot{r'}_i\" r\"= \\dot{\\omega}_b \\times r'\" r\"+ \\omega \\times (\\omega \\times r')\")\r\n"
   ],
   "outputs": [
    {
     "output_type": "display_data",
     "data": {
      "text/plain": [
       "<IPython.core.display.Math object>"
      ],
      "text/latex": [
       "$\\displaystyle \\ddot{r'}_i = \\dot{(\\dot{r'}_i)}_b + \\omega \\times \\dot{r'}_i$"
      ]
     },
     "metadata": {}
    },
    {
     "output_type": "display_data",
     "data": {
      "text/plain": [
       "<IPython.core.display.Math object>"
      ],
      "text/latex": [
       "$\\displaystyle \\ddot{r'}_i = \\dot{(\\omega \\times r')}_b + \\omega \\times (\\omega \\times r')$"
      ]
     },
     "metadata": {}
    },
    {
     "output_type": "display_data",
     "data": {
      "text/plain": [
       "<IPython.core.display.Math object>"
      ],
      "text/latex": [
       "$\\displaystyle \\ddot{r'}_i= \\dot{\\omega}_b \\times r' + \\omega \\times \\dot{r'}_b+ \\omega \\times (\\omega \\times r')$"
      ]
     },
     "metadata": {}
    },
    {
     "output_type": "display_data",
     "data": {
      "text/plain": [
       "<IPython.core.display.Math object>"
      ],
      "text/latex": [
       "$\\displaystyle \\ddot{r'}_i= \\dot{\\omega}_b \\times r'+ \\omega \\times (\\omega \\times r')$"
      ]
     },
     "metadata": {}
    }
   ],
   "metadata": {}
  },
  {
   "cell_type": "code",
   "execution_count": 14,
   "source": [
    "# Second derivative of r_{AC}\r\n",
    "math(\r\n",
    "    r\"{\\ddot{r}_{AC}}_i\"\r\n",
    "    r\"= \\dot{V}_i + \\ddot{r'}_i\"\r\n",
    "    r\"= \\dot{V}_b + \\omega \\times V\"\r\n",
    "    r\"+ \\dot{\\omega}_b \\times r' + \\omega \\times (\\omega \\times r')\"\r\n",
    ")\r\n"
   ],
   "outputs": [
    {
     "output_type": "display_data",
     "data": {
      "text/plain": [
       "<IPython.core.display.Math object>"
      ],
      "text/latex": [
       "$\\displaystyle {\\ddot{r}_{AC}}_i= \\dot{V}_i + \\ddot{r'}_i= \\dot{V}_b + \\omega \\times V+ \\dot{\\omega}_b \\times r' + \\omega \\times (\\omega \\times r')$"
      ]
     },
     "metadata": {}
    }
   ],
   "metadata": {}
  },
  {
   "cell_type": "code",
   "execution_count": 15,
   "source": [
    "# a' in b\r\n",
    "math(r\"a' = {\\ddot{r}_{AC}}_i - g\")\r\n",
    "math(r\"[a']_b = [{\\ddot{r}_{AC}}_i - g]_b\")\r\n",
    "math(\r\n",
    "    r\"[a']_b\"\r\n",
    "    r\"= [\\dot{V}_b + \\omega \\times V]_b\"\r\n",
    "    r\"+ [\\dot{\\omega}_b \\times r' + \\omega \\times (\\omega \\times r')]_b\"\r\n",
    "    r\"- D_b^i g_i\"\r\n",
    ")\r\n",
    "\r\n"
   ],
   "outputs": [
    {
     "output_type": "display_data",
     "data": {
      "text/plain": [
       "<IPython.core.display.Math object>"
      ],
      "text/latex": [
       "$\\displaystyle a' = {\\ddot{r}_{AC}}_i - g$"
      ]
     },
     "metadata": {}
    },
    {
     "output_type": "display_data",
     "data": {
      "text/plain": [
       "<IPython.core.display.Math object>"
      ],
      "text/latex": [
       "$\\displaystyle [a']_b = [{\\ddot{r}_{AC}}_i - g]_b$"
      ]
     },
     "metadata": {}
    },
    {
     "output_type": "display_data",
     "data": {
      "text/plain": [
       "<IPython.core.display.Math object>"
      ],
      "text/latex": [
       "$\\displaystyle [a']_b= [\\dot{V}_b + \\omega \\times V]_b+ [\\dot{\\omega}_b \\times r' + \\omega \\times (\\omega \\times r')]_b- D_b^i g_i$"
      ]
     },
     "metadata": {}
    }
   ],
   "metadata": {}
  },
  {
   "cell_type": "markdown",
   "source": [
    "## ii\r\n",
    "$\\dot{V}_b$ a partir de $a'$"
   ],
   "metadata": {}
  },
  {
   "cell_type": "code",
   "execution_count": 16,
   "source": [
    "# \\dot{V}_b em função de a'\r\n",
    "math(\r\n",
    "    r\"\\dot{V}_b\"\r\n",
    "    r\"= a'\"\r\n",
    "    r\"- \\omega \\times V\"\r\n",
    "    r\"- \\dot{\\omega}_b \\times r' - \\omega \\times (\\omega \\times r')\"\r\n",
    "    r\"+ g\"\r\n",
    ")\r\n"
   ],
   "outputs": [
    {
     "output_type": "display_data",
     "data": {
      "text/plain": [
       "<IPython.core.display.Math object>"
      ],
      "text/latex": [
       "$\\displaystyle \\dot{V}_b= a'- \\omega \\times V- \\dot{\\omega}_b \\times r' - \\omega \\times (\\omega \\times r')+ g$"
      ]
     },
     "metadata": {}
    }
   ],
   "metadata": {}
  }
 ],
 "metadata": {
  "orig_nbformat": 4,
  "language_info": {
   "name": "python",
   "version": "3.9.5",
   "mimetype": "text/x-python",
   "codemirror_mode": {
    "name": "ipython",
    "version": 3
   },
   "pygments_lexer": "ipython3",
   "nbconvert_exporter": "python",
   "file_extension": ".py"
  },
  "kernelspec": {
   "name": "python3",
   "display_name": "Python 3.9.5 64-bit ('main': conda)"
  },
  "interpreter": {
   "hash": "cc378375604d714125766041ac36b5bce9791f9b4638cf9ccf8affbc63e028c6"
  }
 },
 "nbformat": 4,
 "nbformat_minor": 2
}