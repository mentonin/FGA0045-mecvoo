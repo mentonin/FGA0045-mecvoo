{
 "cells": [
  {
   "cell_type": "markdown",
   "source": [
    " <span style=\"font-size:250%;\">**Lista 1**</span>"
   ],
   "metadata": {}
  },
  {
   "cell_type": "markdown",
   "source": [
    "# Setup (rodar antes de qualquer outra célula)"
   ],
   "metadata": {}
  },
  {
   "cell_type": "code",
   "execution_count": 1,
   "source": [
    "import sympy as sp\r\n",
    "import sympy.physics.vector as vec\r\n",
    "from mecvoo import *\r\n",
    "from sympy.physics.mechanics import init_vprinting, vlatex\r\n",
    "\r\n",
    "init_vprinting()\r\n"
   ],
   "outputs": [],
   "metadata": {}
  },
  {
   "cell_type": "markdown",
   "source": [
    "# 1\r\n",
    "Utilizando  o  Teorema  de  Coriolis,  calcule $[\\dot{V}_{NED}]_b$ em  função de $\\omega_b^{b, NED} = \\begin{bmatrix} P & Q & R \\end{bmatrix}$, $\\dot{V}_b = \\begin{bmatrix} \\dot{U} & \\dot{V} & \\dot{W} \\end{bmatrix}$ e $V_b = \\begin{bmatrix} U & V & W \\end{bmatrix}$. Obs:\r\n",
    "* Fornecer resposta em formato vetorial e componente a componente.\r\n",
    "* $[\\dot{V}_{NED}]_b$ é a derivada da velocidade avaliada no sistema NED, mas representada em $S_b$.\r\n",
    "* Veja que todos os vetores estão em $S_b$, não há necessidade de conversão de sistema de referência.\r\n",
    "* Teorema de Coriolis: $\\dot{v}_b = \\dot{v}_a + \\omega^{ab}\\times v $"
   ],
   "metadata": {}
  },
  {
   "cell_type": "code",
   "execution_count": 2,
   "source": [
    "b = vec.ReferenceFrame(\"b\")\r\n",
    "\r\n",
    "t = sp.symbols(\"t\")\r\n",
    "V = vector(vec.dynamicsymbols(\"U:W\"), b)\r\n",
    "omega_b_NED = vector(vec.dynamicsymbols(\"P:R\"), b)\r\n",
    "math(\r\n",
    "    r\"\\dot{v}_{NED} = \"\r\n",
    "    + vlatex(V.to_matrix(b))\r\n",
    "    + \"+\"\r\n",
    "    + vlatex(omega_b_NED.to_matrix(b))\r\n",
    "    + r\"\\times\"\r\n",
    "    + vlatex(V.to_matrix(b))\r\n",
    "    + \"= \"\r\n",
    "    + vlatex((V.diff(t, b) + omega_b_NED.cross(V)).to_matrix(b))\r\n",
    ")\r\n"
   ],
   "outputs": [
    {
     "output_type": "display_data",
     "data": {
      "text/plain": [
       "<IPython.core.display.Math object>"
      ],
      "text/latex": [
       "$\\displaystyle \\dot{v}_{NED} = \\left[\\begin{matrix}U\\\\V\\\\W\\end{matrix}\\right]+\\left[\\begin{matrix}P\\\\Q\\\\R\\end{matrix}\\right]\\times\\left[\\begin{matrix}U\\\\V\\\\W\\end{matrix}\\right]= \\left[\\begin{matrix}Q W - R V + \\dot{U}\\\\- P W + R U + \\dot{V}\\\\P V - Q U + \\dot{W}\\end{matrix}\\right]$"
      ]
     },
     "metadata": {}
    }
   ],
   "metadata": {}
  },
  {
   "cell_type": "markdown",
   "source": [
    "# 2\r\n",
    "É possível entender o significado físico dos diversos termos que compõem a aceleração inercial  através  da  análise  do  movimento  de  uma  mosca  sobre  um  discogirante. Examine as componentes da aceleração sofrida pela mosca quando ela:"
   ],
   "metadata": {}
  },
  {
   "cell_type": "code",
   "execution_count": 138,
   "source": [
    "fix = vec.ReferenceFrame(\"fix\")\r\n",
    "omega, psi = vec.dynamicsymbols(\"omega, psi\")\r\n",
    "t = sp.symbols(\"t\")\r\n",
    "disc = fix.orientnew(\"disc\", \"Axis\", (psi, fix.z))\r\n",
    "x, y, z = vec.dynamicsymbols(\"x, y, z\", reals=True, positive=True)\r\n",
    "p = vector((x, y, z), disc)\r\n",
    "v = p.diff(t, fix)\r\n",
    "a = v.diff(t, fix)\r\n",
    "a_ = sp.simplify(a.to_matrix(fix)).subs({psi.diff(t): omega})\r\n"
   ],
   "outputs": [],
   "metadata": {}
  },
  {
   "cell_type": "markdown",
   "source": [
    "## i.\r\n",
    "Está estacionada sobreo disco girando com velocidade angular constante"
   ],
   "metadata": {}
  },
  {
   "cell_type": "code",
   "execution_count": 139,
   "source": [
    "subs_2_1 = {\r\n",
    "    x: R,\r\n",
    "    y: 0,\r\n",
    "    z: 0,\r\n",
    "    omega.diff(t): 0,\r\n",
    "}\r\n",
    "math(vlatex((sp.simplify(a_.subs(subs_2_1).subs(subs_2_1)))))\r\n"
   ],
   "outputs": [
    {
     "output_type": "display_data",
     "data": {
      "text/plain": [
       "<IPython.core.display.Math object>"
      ],
      "text/latex": [
       "$\\displaystyle \\left[\\begin{matrix}- R \\omega^{2} \\cos{\\left(\\psi \\right)}\\\\- R \\omega^{2} \\sin{\\left(\\psi \\right)}\\\\0\\end{matrix}\\right]$"
      ]
     },
     "metadata": {}
    }
   ],
   "metadata": {}
  },
  {
   "cell_type": "markdown",
   "source": [
    "## ii.\r\n",
    "Está estacionada sobre o disco girando com velocidade angular variável"
   ],
   "metadata": {}
  },
  {
   "cell_type": "code",
   "execution_count": 140,
   "source": [
    "subs_2_2 = {\r\n",
    "    x: R,\r\n",
    "    y: 0,\r\n",
    "    z: 0,\r\n",
    "}\r\n",
    "math(vlatex(sp.simplify(a_.subs(subs_2_2))))\r\n",
    "math(vlatex(sp.simplify(a_.subs(subs_2_2) - a_.subs(subs_2_1))))\r\n"
   ],
   "outputs": [
    {
     "output_type": "display_data",
     "data": {
      "text/plain": [
       "<IPython.core.display.Math object>"
      ],
      "text/latex": [
       "$\\displaystyle \\left[\\begin{matrix}- R \\omega^{2} \\cos{\\left(\\psi \\right)} - R \\sin{\\left(\\psi \\right)} \\dot{\\omega}\\\\- R \\omega^{2} \\sin{\\left(\\psi \\right)} + R \\cos{\\left(\\psi \\right)} \\dot{\\omega}\\\\0\\end{matrix}\\right]$"
      ]
     },
     "metadata": {}
    },
    {
     "output_type": "display_data",
     "data": {
      "text/plain": [
       "<IPython.core.display.Math object>"
      ],
      "text/latex": [
       "$\\displaystyle \\left[\\begin{matrix}- R \\sin{\\left(\\psi \\right)} \\dot{\\omega}\\\\R \\cos{\\left(\\psi \\right)} \\dot{\\omega}\\\\0\\end{matrix}\\right]$"
      ]
     },
     "metadata": {}
    }
   ],
   "metadata": {}
  },
  {
   "cell_type": "markdown",
   "source": [
    "## iii.\r\n",
    "Se move em direção ao centro do disco girante com velocidade aparente $V$"
   ],
   "metadata": {}
  },
  {
   "cell_type": "code",
   "execution_count": 141,
   "source": [
    "V = sp.symbols(\"V\")\r\n",
    "subs_2_3 = {\r\n",
    "    # x.diff(t): -V * x / sp.sqrt(x ** 2 + y ** 2),\r\n",
    "    # y.diff(t): -V * y / sp.sqrt(x ** 2 + y ** 2),\r\n",
    "    x: R,\r\n",
    "    x.diff(t): -V,\r\n",
    "    y: 0,\r\n",
    "    z: 0\r\n",
    "}\r\n",
    "math(vlatex(sp.simplify(a_.subs(subs_2_3))))\r\n",
    "math(vlatex(sp.simplify(a_.subs(subs_2_3) - a_.subs(subs_2_2))))\r\n"
   ],
   "outputs": [
    {
     "output_type": "display_data",
     "data": {
      "text/plain": [
       "<IPython.core.display.Math object>"
      ],
      "text/latex": [
       "$\\displaystyle \\left[\\begin{matrix}- R \\omega^{2} \\cos{\\left(\\psi \\right)} - R \\sin{\\left(\\psi \\right)} \\dot{\\omega} + 2 V \\omega \\sin{\\left(\\psi \\right)}\\\\- R \\omega^{2} \\sin{\\left(\\psi \\right)} + R \\cos{\\left(\\psi \\right)} \\dot{\\omega} - 2 V \\omega \\cos{\\left(\\psi \\right)}\\\\0\\end{matrix}\\right]$"
      ]
     },
     "metadata": {}
    },
    {
     "output_type": "display_data",
     "data": {
      "text/plain": [
       "<IPython.core.display.Math object>"
      ],
      "text/latex": [
       "$\\displaystyle \\left[\\begin{matrix}2 V \\omega \\sin{\\left(\\psi \\right)}\\\\- 2 V \\omega \\cos{\\left(\\psi \\right)}\\\\0\\end{matrix}\\right]$"
      ]
     },
     "metadata": {}
    }
   ],
   "metadata": {}
  },
  {
   "cell_type": "markdown",
   "source": [
    "## iv.\r\n",
    "Se move em direção perpendicular a $R$ com velocidade aparente $V$."
   ],
   "metadata": {}
  },
  {
   "cell_type": "code",
   "execution_count": 145,
   "source": [
    "V = sp.symbols(\"V\")\r\n",
    "R = sp.symbols(\"R\")\r\n",
    "subs_2_4 = {\r\n",
    "    # x.diff(t): -V * y / sp.sqrt(x ** 2 + y ** 2),\r\n",
    "    # y.diff(t): V * x / sp.sqrt(x ** 2 + y ** 2),\r\n",
    "    x: R * sp.cos(V / R * t),\r\n",
    "    y: R * sp.sin(V / R * t),\r\n",
    "    z: 0,\r\n",
    "}\r\n",
    "math(vlatex(sp.trigsimp(sp.simplify(a_.subs(subs_2_4)))))\r\n",
    "math(vlatex(sp.trigsimp(sp.simplify(a_.subs(subs_2_4) - a_.subs(subs_2_2)))))\r\n"
   ],
   "outputs": [
    {
     "output_type": "display_data",
     "data": {
      "text/plain": [
       "<IPython.core.display.Math object>"
      ],
      "text/latex": [
       "$\\displaystyle \\left[\\begin{matrix}- R \\omega^{2} \\cos{\\left(\\psi + \\frac{V t}{R} \\right)} - R \\sin{\\left(\\psi + \\frac{V t}{R} \\right)} \\dot{\\omega} - 2 V \\omega \\cos{\\left(\\psi + \\frac{V t}{R} \\right)} - \\frac{V^{2} \\cos{\\left(\\psi + \\frac{V t}{R} \\right)}}{R}\\\\- R \\omega^{2} \\sin{\\left(\\psi + \\frac{V t}{R} \\right)} + R \\cos{\\left(\\psi + \\frac{V t}{R} \\right)} \\dot{\\omega} - 2 V \\omega \\sin{\\left(\\psi + \\frac{V t}{R} \\right)} - \\frac{V^{2} \\sin{\\left(\\psi + \\frac{V t}{R} \\right)}}{R}\\\\0\\end{matrix}\\right]$"
      ]
     },
     "metadata": {}
    },
    {
     "output_type": "display_data",
     "data": {
      "text/plain": [
       "<IPython.core.display.Math object>"
      ],
      "text/latex": [
       "$\\displaystyle \\left[\\begin{matrix}- R \\omega^{2} \\cos{\\left(\\psi + \\frac{V t}{R} \\right)} + R \\omega^{2} \\cos{\\left(\\psi \\right)} - R \\sin{\\left(\\psi + \\frac{V t}{R} \\right)} \\dot{\\omega} + R \\sin{\\left(\\psi \\right)} \\dot{\\omega} - 2 V \\omega \\cos{\\left(\\psi + \\frac{V t}{R} \\right)} - \\frac{V^{2} \\cos{\\left(\\psi + \\frac{V t}{R} \\right)}}{R}\\\\- R \\omega^{2} \\sin{\\left(\\psi + \\frac{V t}{R} \\right)} + R \\omega^{2} \\sin{\\left(\\psi \\right)} + R \\cos{\\left(\\psi + \\frac{V t}{R} \\right)} \\dot{\\omega} - R \\cos{\\left(\\psi \\right)} \\dot{\\omega} - 2 V \\omega \\sin{\\left(\\psi + \\frac{V t}{R} \\right)} - \\frac{V^{2} \\sin{\\left(\\psi + \\frac{V t}{R} \\right)}}{R}\\\\0\\end{matrix}\\right]$"
      ]
     },
     "metadata": {}
    }
   ],
   "metadata": {}
  }
 ],
 "metadata": {
  "orig_nbformat": 4,
  "language_info": {
   "name": "python",
   "version": "3.9.5",
   "mimetype": "text/x-python",
   "codemirror_mode": {
    "name": "ipython",
    "version": 3
   },
   "pygments_lexer": "ipython3",
   "nbconvert_exporter": "python",
   "file_extension": ".py"
  },
  "kernelspec": {
   "name": "python3",
   "display_name": "Python 3.9.5 64-bit ('main': conda)"
  },
  "interpreter": {
   "hash": "cc378375604d714125766041ac36b5bce9791f9b4638cf9ccf8affbc63e028c6"
  }
 },
 "nbformat": 4,
 "nbformat_minor": 2
}