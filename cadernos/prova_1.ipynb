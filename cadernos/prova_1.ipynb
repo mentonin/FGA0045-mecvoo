{
 "cells": [
  {
   "cell_type": "code",
   "execution_count": 1,
   "source": [
    "import sympy as sp\r\n",
    "import sympy.physics.vector as vec\r\n",
    "from mecvoo import *\r\n"
   ],
   "outputs": [],
   "metadata": {}
  },
  {
   "cell_type": "markdown",
   "source": [
    "# 1"
   ],
   "metadata": {}
  },
  {
   "cell_type": "markdown",
   "source": [
    "## i\r\n"
   ],
   "metadata": {}
  },
  {
   "cell_type": "code",
   "execution_count": 2,
   "source": [
    "lamda, phi = sp.symbols(\"lambda, phi\")\r\n",
    "NED = vec.ReferenceFrame(\"NED\")\r\n",
    "ECEF = NED.orientnew(\"ECEF\", \"Body\", [phi + rad(90), -lamda, 0], \"yzx\")\r\n",
    "D_NED_ECEF = NED.dcm(ECEF)\r\n",
    "math(sp.latex(D_NED_ECEF))\r\n",
    "D_NED_ECEF = sp.rot_axis2(-phi) @ sp.rot_axis1(lamda) @ sp.rot_axis2(-sp.pi / 2)\r\n",
    "math(sp.latex(D_NED_ECEF))\r\n"
   ],
   "outputs": [
    {
     "output_type": "display_data",
     "data": {
      "text/plain": [
       "<IPython.core.display.Math object>"
      ],
      "text/latex": [
       "$\\displaystyle \\left[\\begin{matrix}- \\sin{\\left(\\phi \\right)} \\cos{\\left(\\lambda \\right)} & - \\sin{\\left(\\lambda \\right)} \\sin{\\left(\\phi \\right)} & \\cos{\\left(\\phi \\right)}\\\\- \\sin{\\left(\\lambda \\right)} & \\cos{\\left(\\lambda \\right)} & 0\\\\- \\cos{\\left(\\lambda \\right)} \\cos{\\left(\\phi \\right)} & - \\sin{\\left(\\lambda \\right)} \\cos{\\left(\\phi \\right)} & - \\sin{\\left(\\phi \\right)}\\end{matrix}\\right]$"
      ]
     },
     "metadata": {}
    },
    {
     "output_type": "display_data",
     "data": {
      "text/plain": [
       "<IPython.core.display.Math object>"
      ],
      "text/latex": [
       "$\\displaystyle \\left[\\begin{matrix}- \\sin{\\left(\\phi \\right)} \\cos{\\left(\\lambda \\right)} & - \\sin{\\left(\\lambda \\right)} \\sin{\\left(\\phi \\right)} & \\cos{\\left(\\phi \\right)}\\\\- \\sin{\\left(\\lambda \\right)} & \\cos{\\left(\\lambda \\right)} & 0\\\\- \\cos{\\left(\\lambda \\right)} \\cos{\\left(\\phi \\right)} & - \\sin{\\left(\\lambda \\right)} \\cos{\\left(\\phi \\right)} & - \\sin{\\left(\\phi \\right)}\\end{matrix}\\right]$"
      ]
     },
     "metadata": {}
    }
   ],
   "metadata": {}
  },
  {
   "cell_type": "markdown",
   "source": [
    "## ii\r\n"
   ],
   "metadata": {}
  },
  {
   "cell_type": "code",
   "execution_count": 3,
   "source": [
    "# Numa Terra esférica, a coordenada será igual a um vetor na direção ECEF.x de\r\n",
    "# magnitude R + altitude, rotacionado em ECEF.y pela latitude e ECEF.z pela longitude\r\n",
    "# então, as coordenadas ECEF aplicam a rotação contrária\r\n",
    "def coord2vec(lon, lat, h=0, R=sp.Symbol(\"R\")) -> vec.Vector:\r\n",
    "    \"\"\"\r\n",
    "    Calcula vetor de posição a partir de coordenadas geográficas e altitude e retorna\r\n",
    "    um vetor com base ECEF\r\n",
    "    ==========\r\n",
    "    Inputs\r\n",
    "    lon: longitude em graus\r\n",
    "    lat: latitude em graus\r\n",
    "    h: altitude em metros\r\n",
    "    Output\r\n",
    "    \"\"\"\r\n",
    "    lon = rad(lon)\r\n",
    "    lat = rad(lat)\r\n",
    "    rot = sp.rot_axis3(-lon) @ sp.rot_axis2(lat)  # rotação \"body fixed\"\r\n",
    "    mag = R + h\r\n",
    "    base = sp.Matrix([1, 0, 0])\r\n",
    "    return vector(mag * rot @ base, ECEF)\r\n"
   ],
   "outputs": [],
   "metadata": {}
  },
  {
   "cell_type": "code",
   "execution_count": 4,
   "source": [
    "def vec2coord(vector: vec.Vector) -> sp.Matrix:\r\n",
    "    \"\"\"\r\n",
    "    Calcula longitude, latitude e altitude partir do vetor da posição relativa ao\r\n",
    "    centro da Terra e retorna uma matriz nessa ordem\r\n",
    "    ==========\r\n",
    "    Inputs\r\n",
    "    vector: vetor de posição relativo ao centro da Terra (em sistemas conectados a ECEF)\r\n",
    "    \"\"\"\r\n",
    "    R = sp.symbols(\"R\")\r\n",
    "    c_ecef = vector.to_matrix(ECEF)\r\n",
    "\r\n",
    "    # Altitude = distância ao centro - raio da Terra\r\n",
    "    h = sp.simplify(vector.magnitude() - R)\r\n",
    "    # Longitude pode ser encontrada pela razão das coordenadas X e Y\r\n",
    "    lon = sp.simplify(sp.atan2(c_ecef[1], c_ecef[0]))\r\n",
    "    # Latitude pode ser encontrada pela razão entre a coordenada Z e a projeção no plano XY\r\n",
    "    r_ = sp.sqrt(c_ecef[0] ** 2 + c_ecef[1] ** 2)\r\n",
    "    lat = sp.simplify(sp.atan(c_ecef[2] / r_))\r\n",
    "    return sp.Matrix([lon, lat, h])\r\n"
   ],
   "outputs": [],
   "metadata": {}
  },
  {
   "cell_type": "code",
   "execution_count": 5,
   "source": [
    "coord_ECEF = vector(sp.symbols(\"X:Z\"), ECEF)\r\n",
    "lon, lat, h = sp.Matrix(sp.symbols(\"lon, lat, h\"))\r\n",
    "R = sp.symbols(\"R\")\r\n",
    "\r\n",
    "math(\r\n",
    "    f\"{sp.latex(coord_ECEF.to_matrix(ECEF))}_{{ECEF}} =  \"\r\n",
    "    + r\"R_z(-lon) R_y(lat) \\begin{bmatrix} 1 \\\\ 0 \\\\ 0 \\end{bmatrix} (R + h)\"\r\n",
    ")\r\n",
    "\r\n",
    "\r\n",
    "P = coord2vec(lon, lat, h)\r\n",
    "math(\r\n",
    "    f\"{sp.latex(coord_ECEF.to_matrix(ECEF))}_{{ECEF}} =  \" + sp.latex(P.to_matrix(ECEF))\r\n",
    ")\r\n",
    "\r\n",
    "math(\r\n",
    "    r\"\\begin{bmatrix} lon \\\\ lat \\\\ alt \\end{bmatrix} = \"\r\n",
    "    + sp.latex(sp.Matrix(vec2coord(coord_ECEF)))\r\n",
    ")\r\n"
   ],
   "outputs": [
    {
     "output_type": "display_data",
     "data": {
      "text/plain": [
       "<IPython.core.display.Math object>"
      ],
      "text/latex": [
       "$\\displaystyle \\left[\\begin{matrix}X\\\\Y\\\\Z\\end{matrix}\\right]_{ECEF} =  R_z(-lon) R_y(lat) \\begin{bmatrix} 1 \\\\ 0 \\\\ 0 \\end{bmatrix} (R + h)$"
      ]
     },
     "metadata": {}
    },
    {
     "output_type": "display_data",
     "data": {
      "text/plain": [
       "<IPython.core.display.Math object>"
      ],
      "text/latex": [
       "$\\displaystyle \\left[\\begin{matrix}X\\\\Y\\\\Z\\end{matrix}\\right]_{ECEF} =  \\left[\\begin{matrix}\\left(R + h\\right) \\cos{\\left(\\frac{\\pi lat}{180} \\right)} \\cos{\\left(\\frac{\\pi lon}{180} \\right)}\\\\\\left(R + h\\right) \\sin{\\left(\\frac{\\pi lon}{180} \\right)} \\cos{\\left(\\frac{\\pi lat}{180} \\right)}\\\\\\left(R + h\\right) \\sin{\\left(\\frac{\\pi lat}{180} \\right)}\\end{matrix}\\right]$"
      ]
     },
     "metadata": {}
    },
    {
     "output_type": "display_data",
     "data": {
      "text/plain": [
       "<IPython.core.display.Math object>"
      ],
      "text/latex": [
       "$\\displaystyle \\begin{bmatrix} lon \\\\ lat \\\\ alt \\end{bmatrix} = \\left[\\begin{matrix}\\operatorname{atan_{2}}{\\left(Y,X \\right)}\\\\\\operatorname{atan}{\\left(\\frac{Z}{\\sqrt{X^{2} + Y^{2}}} \\right)}\\\\- R + \\sqrt{X^{2} + Y^{2} + Z^{2}}\\end{matrix}\\right]$"
      ]
     },
     "metadata": {}
    }
   ],
   "metadata": {}
  },
  {
   "cell_type": "markdown",
   "source": [
    "## iii\r\n"
   ],
   "metadata": {}
  },
  {
   "cell_type": "code",
   "execution_count": 6,
   "source": [
    "subs2_3 = {\r\n",
    "    lon: -48.0448584,\r\n",
    "    lat: -15.9890146,\r\n",
    "    h: 1221,\r\n",
    "    R: 6378164,\r\n",
    "}\r\n",
    "\r\n",
    "math(sp.latex(P.evalf(7, subs=subs2_3).to_matrix(ECEF)))\r\n"
   ],
   "outputs": [
    {
     "output_type": "display_data",
     "data": {
      "text/plain": [
       "<IPython.core.display.Math object>"
      ],
      "text/latex": [
       "$\\displaystyle \\left[\\begin{matrix}4099938.0\\\\-4560618.0\\\\-1757221.0\\end{matrix}\\right]$"
      ]
     },
     "metadata": {}
    }
   ],
   "metadata": {}
  },
  {
   "cell_type": "markdown",
   "source": [
    "## iv\r\n"
   ],
   "metadata": {}
  },
  {
   "cell_type": "code",
   "execution_count": 7,
   "source": [
    "P_GPS = vector((10981457, -13087191, -20360055), ECEF)\r\n",
    "\r\n",
    "R_NED = (P_GPS - P).to_matrix(NED)\r\n",
    "\r\n",
    "# Posição em NED\r\n",
    "math(sp.latex(R_NED.subs({phi: rad(lat), lamda: rad(lon)}).evalf(8, subs=subs2_3)))\r\n"
   ],
   "outputs": [
    {
     "output_type": "display_data",
     "data": {
      "text/plain": [
       "<IPython.core.display.Math object>"
      ],
      "text/latex": [
       "$\\displaystyle \\left[\\begin{matrix}-14869285.0\\\\-582859.46\\\\-15642501.0\\end{matrix}\\right]$"
      ]
     },
     "metadata": {}
    }
   ],
   "metadata": {}
  },
  {
   "cell_type": "code",
   "execution_count": 8,
   "source": [
    "# azimute e elevação no horizonte local\r\n",
    "azimute = (\r\n",
    "    sp.atan2(R_NED[1], R_NED[0])\r\n",
    "    .subs({phi: rad(lat), lamda: rad(lon)})\r\n",
    "    .evalf(8, subs=subs2_3)\r\n",
    ")\r\n",
    "elevacao = (\r\n",
    "    sp.atan(-R_NED[2] / sp.sqrt(R_NED[0] ** 2 + R_NED[1] ** 2))\r\n",
    "    .subs({phi: rad(lat), lamda: rad(lon)})\r\n",
    "    .evalf(8, subs=subs2_3)\r\n",
    ")\r\n",
    "math(\r\n",
    "    f\"\\\\alpha = {deg(azimute).evalf()}\\\\deg \\\\\\\\\"\r\n",
    "    f\"\\\\lambda = {deg(elevacao).evalf()}\\\\deg\"\r\n",
    ")\r\n"
   ],
   "outputs": [
    {
     "output_type": "display_data",
     "data": {
      "text/plain": [
       "<IPython.core.display.Math object>"
      ],
      "text/latex": [
       "$\\displaystyle \\alpha = -177.755218410765\\deg \\\\\\lambda = 46.4296882530791\\deg$"
      ]
     },
     "metadata": {}
    }
   ],
   "metadata": {}
  },
  {
   "cell_type": "markdown",
   "source": [
    "## v\r\n"
   ],
   "metadata": {}
  },
  {
   "cell_type": "code",
   "execution_count": 9,
   "source": [
    "ENU = NED.orientnew(\"ENU\", \"DCM\", sp.Matrix([[0, 1, 0], [1, 0, 0], [0, 0, -1]]))\r\n",
    "math(sp.latex(ENU.dcm(ECEF)))\r\n",
    "math(sp.latex(ECEF.dcm(ENU)))\r\n"
   ],
   "outputs": [
    {
     "output_type": "display_data",
     "data": {
      "text/plain": [
       "<IPython.core.display.Math object>"
      ],
      "text/latex": [
       "$\\displaystyle \\left[\\begin{matrix}- \\sin{\\left(\\lambda \\right)} & \\cos{\\left(\\lambda \\right)} & 0\\\\- \\sin{\\left(\\phi \\right)} \\cos{\\left(\\lambda \\right)} & - \\sin{\\left(\\lambda \\right)} \\sin{\\left(\\phi \\right)} & \\cos{\\left(\\phi \\right)}\\\\\\cos{\\left(\\lambda \\right)} \\cos{\\left(\\phi \\right)} & \\sin{\\left(\\lambda \\right)} \\cos{\\left(\\phi \\right)} & \\sin{\\left(\\phi \\right)}\\end{matrix}\\right]$"
      ]
     },
     "metadata": {}
    },
    {
     "output_type": "display_data",
     "data": {
      "text/plain": [
       "<IPython.core.display.Math object>"
      ],
      "text/latex": [
       "$\\displaystyle \\left[\\begin{matrix}- \\sin{\\left(\\lambda \\right)} & - \\sin{\\left(\\phi \\right)} \\cos{\\left(\\lambda \\right)} & \\cos{\\left(\\lambda \\right)} \\cos{\\left(\\phi \\right)}\\\\\\cos{\\left(\\lambda \\right)} & - \\sin{\\left(\\lambda \\right)} \\sin{\\left(\\phi \\right)} & \\sin{\\left(\\lambda \\right)} \\cos{\\left(\\phi \\right)}\\\\0 & \\cos{\\left(\\phi \\right)} & \\sin{\\left(\\phi \\right)}\\end{matrix}\\right]$"
      ]
     },
     "metadata": {}
    }
   ],
   "metadata": {}
  },
  {
   "cell_type": "markdown",
   "source": [
    "## vi\r\n"
   ],
   "metadata": {}
  },
  {
   "cell_type": "code",
   "execution_count": 10,
   "source": [
    "omega_e = vector([0, 0, 1], ECEF) * sp.symbols(\"omega_e\")\r\n",
    "math(sp.latex(omega_e.to_matrix(ENU)))\r\n"
   ],
   "outputs": [
    {
     "output_type": "display_data",
     "data": {
      "text/plain": [
       "<IPython.core.display.Math object>"
      ],
      "text/latex": [
       "$\\displaystyle \\left[\\begin{matrix}0\\\\\\omega_{e} \\cos{\\left(\\phi \\right)}\\\\\\omega_{e} \\sin{\\left(\\phi \\right)}\\end{matrix}\\right]$"
      ]
     },
     "metadata": {}
    }
   ],
   "metadata": {}
  },
  {
   "cell_type": "markdown",
   "source": [
    "## vii\r\n"
   ],
   "metadata": {}
  },
  {
   "cell_type": "code",
   "execution_count": 11,
   "source": [
    "g = vector([0, 0, 1], NED) * sp.symbols(\"g\")\r\n",
    "math(sp.latex(g.to_matrix(ECEF)))\r\n"
   ],
   "outputs": [
    {
     "output_type": "display_data",
     "data": {
      "text/plain": [
       "<IPython.core.display.Math object>"
      ],
      "text/latex": [
       "$\\displaystyle \\left[\\begin{matrix}- g \\cos{\\left(\\lambda \\right)} \\cos{\\left(\\phi \\right)}\\\\- g \\sin{\\left(\\lambda \\right)} \\cos{\\left(\\phi \\right)}\\\\- g \\sin{\\left(\\phi \\right)}\\end{matrix}\\right]$"
      ]
     },
     "metadata": {}
    }
   ],
   "metadata": {}
  },
  {
   "cell_type": "markdown",
   "source": [
    "## viii"
   ],
   "metadata": {}
  },
  {
   "cell_type": "code",
   "execution_count": 12,
   "source": [
    "math(sp.latex(NED.dcm(ENU)))\r\n",
    "math(sp.latex(ENU.dcm(NED)))\r\n"
   ],
   "outputs": [
    {
     "output_type": "display_data",
     "data": {
      "text/plain": [
       "<IPython.core.display.Math object>"
      ],
      "text/latex": [
       "$\\displaystyle \\left[\\begin{matrix}0 & 1 & 0\\\\1 & 0 & 0\\\\0 & 0 & -1\\end{matrix}\\right]$"
      ]
     },
     "metadata": {}
    },
    {
     "output_type": "display_data",
     "data": {
      "text/plain": [
       "<IPython.core.display.Math object>"
      ],
      "text/latex": [
       "$\\displaystyle \\left[\\begin{matrix}0 & 1 & 0\\\\1 & 0 & 0\\\\0 & 0 & -1\\end{matrix}\\right]$"
      ]
     },
     "metadata": {}
    }
   ],
   "metadata": {}
  },
  {
   "cell_type": "markdown",
   "source": [
    "# 2"
   ],
   "metadata": {}
  },
  {
   "cell_type": "markdown",
   "source": [
    "## i"
   ],
   "metadata": {}
  },
  {
   "cell_type": "code",
   "execution_count": 13,
   "source": [
    "t = sp.symbols(\"t\")\r\n",
    "# vec.init_vprinting()\r\n",
    "\r\n",
    "\r\n",
    "def d(x):\r\n",
    "    return sp.diff(x, t)\r\n",
    "\r\n",
    "\r\n",
    "U, V, W, P, Q, R = vec.dynamicsymbols(\"U, V, W, P, Q, R\")\r\n",
    "a, b, c = sp.symbols(\"a, b, c\")\r\n",
    "psi, theta, phi = sp.symbols(\"psi, theta, phi\")\r\n",
    "\r\n",
    "# Vetores da questão representados em Sb\r\n",
    "Vb = sp.Matrix([U, V, W])\r\n",
    "wb = sp.Matrix([P, Q, R])\r\n",
    "r_ = sp.Matrix([a, b, c])\r\n",
    "g = (\r\n",
    "    sp.rot_axis1(phi)\r\n",
    "    @ sp.rot_axis2(theta)\r\n",
    "    @ sp.rot_axis3(psi)\r\n",
    "    @ sp.Matrix([0, 0, sp.symbols(\"g_0\")])\r\n",
    ")\r\n"
   ],
   "outputs": [],
   "metadata": {}
  },
  {
   "cell_type": "code",
   "execution_count": 14,
   "source": [
    "# Primeira derivada\r\n",
    "di_r = Vb\r\n",
    "di_r_ = wb.cross(r_)\r\n",
    "di_rAC = di_r + di_r_\r\n",
    "\r\n",
    "# Segunda derivada\r\n",
    "ddi_rAC = d(di_rAC) + wb.cross(di_rAC)\r\n",
    "math(vec.vlatex(ddi_rAC - g))\r\n"
   ],
   "outputs": [
    {
     "output_type": "display_data",
     "data": {
      "text/plain": [
       "<IPython.core.display.Math object>"
      ],
      "text/latex": [
       "$\\displaystyle \\left[\\begin{matrix}- b \\dot{R} + c \\dot{Q} + g_{0} \\sin{\\left(\\theta \\right)} + \\left(- a Q + b P + W\\right) Q - \\left(a R - c P + V\\right) R + \\dot{U}\\\\a \\dot{R} - c \\dot{P} - g_{0} \\sin{\\left(\\phi \\right)} \\cos{\\left(\\theta \\right)} - \\left(- a Q + b P + W\\right) P + \\left(- b R + c Q + U\\right) R + \\dot{V}\\\\- a \\dot{Q} + b \\dot{P} - g_{0} \\cos{\\left(\\phi \\right)} \\cos{\\left(\\theta \\right)} + \\left(a R - c P + V\\right) P - \\left(- b R + c Q + U\\right) Q + \\dot{W}\\end{matrix}\\right]$"
      ]
     },
     "metadata": {}
    }
   ],
   "metadata": {}
  },
  {
   "cell_type": "markdown",
   "source": [
    "# 3"
   ],
   "metadata": {}
  },
  {
   "cell_type": "markdown",
   "source": [
    "## i"
   ],
   "metadata": {}
  },
  {
   "cell_type": "code",
   "execution_count": 15,
   "source": [
    "theta, phi, nu, psi = vec.dynamicsymbols(\"theta, phi, nu, psi\")\r\n",
    "ine = vec.ReferenceFrame(\"ine\")\r\n",
    "cil = ine.orientnew(\"cil\", \"Axis\", (theta, ine.z))\r\n",
    "i, j, k = cil.x, cil.y, cil.z\r\n",
    "\r\n",
    "m = sp.sin(phi) * i + sp.cos(phi) * k\r\n",
    "p = m.cross(j)\r\n",
    "n = sp.cos(nu) * j + sp.sin(nu) * p\r\n",
    "\r\n",
    "subs = {\r\n",
    "    d(d(theta)): 0,\r\n",
    "    d(d(phi)): 0,\r\n",
    "    d(d(nu)): 0,\r\n",
    "    d(d(psi)): 0,\r\n",
    "}\r\n",
    "\r\n",
    "w = d(theta) * k + d(phi) * j + d(nu) * m + d(psi) * n\r\n",
    "math(vec.vlatex(w.to_matrix(cil)))\r\n"
   ],
   "outputs": [
    {
     "output_type": "display_data",
     "data": {
      "text/plain": [
       "<IPython.core.display.Math object>"
      ],
      "text/latex": [
       "$\\displaystyle \\left[\\begin{matrix}- \\sin{\\left(\\nu \\right)} \\cos{\\left(\\phi \\right)} \\dot{\\psi} + \\sin{\\left(\\phi \\right)} \\dot{\\nu}\\\\\\cos{\\left(\\nu \\right)} \\dot{\\psi} + \\dot{\\phi}\\\\\\sin{\\left(\\nu \\right)} \\sin{\\left(\\phi \\right)} \\dot{\\psi} + \\cos{\\left(\\phi \\right)} \\dot{\\nu} + \\dot{\\theta}\\end{matrix}\\right]$"
      ]
     },
     "metadata": {}
    }
   ],
   "metadata": {}
  },
  {
   "cell_type": "markdown",
   "source": [
    "## ii"
   ],
   "metadata": {}
  },
  {
   "cell_type": "code",
   "execution_count": 16,
   "source": [
    "math(vec.vlatex(sp.expand(w.dt(ine).to_matrix(cil).subs(subs))))\r\n"
   ],
   "outputs": [
    {
     "output_type": "display_data",
     "data": {
      "text/plain": [
       "<IPython.core.display.Math object>"
      ],
      "text/latex": [
       "$\\displaystyle \\left[\\begin{matrix}\\sin{\\left(\\nu \\right)} \\sin{\\left(\\phi \\right)} \\dot{\\phi} \\dot{\\psi} - \\cos{\\left(\\nu \\right)} \\cos{\\left(\\phi \\right)} \\dot{\\nu} \\dot{\\psi} - \\cos{\\left(\\nu \\right)} \\dot{\\psi} \\dot{\\theta} + \\cos{\\left(\\phi \\right)} \\dot{\\nu} \\dot{\\phi} - \\dot{\\phi} \\dot{\\theta}\\\\- \\sin{\\left(\\nu \\right)} \\cos{\\left(\\phi \\right)} \\dot{\\psi} \\dot{\\theta} - \\sin{\\left(\\nu \\right)} \\dot{\\nu} \\dot{\\psi} + \\sin{\\left(\\phi \\right)} \\dot{\\nu} \\dot{\\theta}\\\\\\sin{\\left(\\nu \\right)} \\cos{\\left(\\phi \\right)} \\dot{\\phi} \\dot{\\psi} + \\sin{\\left(\\phi \\right)} \\cos{\\left(\\nu \\right)} \\dot{\\nu} \\dot{\\psi} - \\sin{\\left(\\phi \\right)} \\dot{\\nu} \\dot{\\phi}\\end{matrix}\\right]$"
      ]
     },
     "metadata": {}
    }
   ],
   "metadata": {}
  },
  {
   "cell_type": "markdown",
   "source": [
    "# 4"
   ],
   "metadata": {}
  },
  {
   "cell_type": "markdown",
   "source": [
    "## i\r\n"
   ],
   "metadata": {}
  },
  {
   "cell_type": "markdown",
   "source": [
    "Diedro positivo aumenta a estabilidade relativa a rolagem, diedro negativo diminui a estabilidade relativa a rolagem. Esse aumento e diminuição de estabilidade implicam, respectivamente, em diminuição e aumento da manobrabilidade da aeronave relativa a rolagem.\r\n",
    "\r\n",
    "A escolha do diedro então deve levar em consideração os outros fatores que afetam a estabilidade de rolagem e o equilíbrio desejado entre estabilidade/manobrabilidade da aeronave."
   ],
   "metadata": {}
  },
  {
   "cell_type": "markdown",
   "source": [
    "## ii\r\n"
   ],
   "metadata": {}
  },
  {
   "cell_type": "markdown",
   "source": [
    "Enflechamento positivo aumenta a estabilidade relativa a guinada, enflechamento negativo diminui a estabilidade relativa a guinada. Esse aumento e diminuição de estabilidade implicam, respectivamente, em diminuição e aumento da manobrabilidade da aeronave relativa a guinada. Além disso, o enflechamento pode causar momento adverso de rolagem quando em manobra de rolagem.\r\n",
    "\r\n",
    "A escolha do enflechamento então deve levar em consideração os outros fatores que afetam a estabilidade de guinada e o equilíbrio desejado entre estabilidade/manobrabilidade da aeronave."
   ],
   "metadata": {}
  },
  {
   "cell_type": "markdown",
   "source": [
    "## iii\r\n"
   ],
   "metadata": {}
  },
  {
   "cell_type": "markdown",
   "source": [
    "Maior alongamento implica em melhor performance de sustentação da aeronave, diminuindo perdas de ponta de asa. Entretanto, alongamento maior também causa maiores momentos fletores na asa (devido a braço de alavanca maior), e menor manobrabilidade (devido a maior momento de inércia).\r\n",
    "\r\n",
    "A escolha do alongamento, então, deve levar em conta as velocidades de operação do projeto, a performance desejada, e o equilíbrio desejado entre estabilidade e manobrabilidade."
   ],
   "metadata": {}
  },
  {
   "cell_type": "markdown",
   "source": [
    "# 5\r\n"
   ],
   "metadata": {}
  },
  {
   "cell_type": "markdown",
   "source": [
    "É provável que a colocação dos equipamentos, no corpo level da aeronave, tenha movido o CG da aeronave além do seu envelope de estabilidade estática. Como a instabilidade começa com pequenas ativações do profundor, é provável que o coeficiente de momento de arfagem da aeronave tenha se tornado positivo sob condições de operação. Assim, quando um pequeno momento de arfagem pica a aeronave, a mudança de ângulo de ataque aumenta o momento de arfagem, que consequentemente pica a aeronave ainda mais, até a aeronave entrar em stall. Picar a aeronave causa efeito parecido no sentido oposto.\r\n",
    "\r\n",
    "Uma possível solução para esse problema seria mover o centro de massa da aeronave mais à frente, com o objetivo de deixá-lo à frente do centro aerodinâmico. Exagerar essa correção pode causar instabilidade dinâmica (apesar da estabilidade estática), onde o momento inverso gerado pela variação de ângulo de ataque faria a aeronave corrigir para um ângulo de sinal oposto, mas magnitude maior."
   ],
   "metadata": {}
  }
 ],
 "metadata": {
  "orig_nbformat": 4,
  "language_info": {
   "name": "python",
   "version": "3.9.5",
   "mimetype": "text/x-python",
   "codemirror_mode": {
    "name": "ipython",
    "version": 3
   },
   "pygments_lexer": "ipython3",
   "nbconvert_exporter": "python",
   "file_extension": ".py"
  },
  "kernelspec": {
   "name": "python3",
   "display_name": "Python 3.9.5 64-bit ('main': conda)"
  },
  "interpreter": {
   "hash": "cc378375604d714125766041ac36b5bce9791f9b4638cf9ccf8affbc63e028c6"
  }
 },
 "nbformat": 4,
 "nbformat_minor": 2
}