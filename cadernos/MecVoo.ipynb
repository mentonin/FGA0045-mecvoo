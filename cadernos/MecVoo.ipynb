{
 "cells": [
  {
   "cell_type": "markdown",
   "source": [
    " <span style=\"font-size:250%;\">**Caderno de Mecânica do Voo**</span>"
   ],
   "metadata": {}
  },
  {
   "cell_type": "markdown",
   "source": [
    "# Setup"
   ],
   "metadata": {}
  },
  {
   "cell_type": "code",
   "execution_count": 2,
   "source": [
    "from mecvoo import *\r\n",
    "import sympy as sp\r\n",
    "import sympy.physics.vector as vec\r\n"
   ],
   "outputs": [],
   "metadata": {}
  },
  {
   "cell_type": "markdown",
   "source": [
    "# Parte 1"
   ],
   "metadata": {}
  },
  {
   "cell_type": "markdown",
   "source": [
    "## Sistemas de referência e matrizes de rotação"
   ],
   "metadata": {}
  },
  {
   "cell_type": "code",
   "execution_count": 4,
   "source": [
    "# angles between ECEF and NED/ENU\r\n",
    "lat, lon = sp.symbols(\"lat, lon\")\r\n",
    "# angles between NED/ENU and body\r\n",
    "phi, theta, psi = sp.symbols(\"phi, theta, psi\")\r\n",
    "# angles between body and wind\r\n",
    "alpha, beta = sp.symbols(\"alpha, beta\")\r\n",
    "\r\n",
    "\r\n",
    "ECEF = vec.ReferenceFrame(\"ECEF\")\r\n",
    "\r\n",
    "NED = ECEF.orientnew(\"NED\", \"Body\", (lon, -pi / 2 - lat, 0), rot_order=\"ZYX\")\r\n",
    "math(f\"D_{{NED}}^{{ECEF}} = {sp.latex(NED.dcm(ECEF))}\")\r\n",
    "\r\n",
    "ENU = ECEF.orientnew(\"ENU\", \"Body\", (lon + pi / 2, 0, pi / 2 - lat), rot_order=\"ZYX\")\r\n",
    "math(f\"D_{{ENU}}^{{ECEF}} = \" + sp.latex(ENU.dcm(ECEF)))\r\n",
    "\r\n",
    "B = NED.orientnew(\"B\", \"Body\", (psi, theta, phi), rot_order=\"ZYX\")\r\n",
    "math(f\"D_{{B}}^{{NED}} = \" + sp.latex(B.dcm(NED)))\r\n",
    "math(f\"D_{{B}}^{{ENU}} = \" + sp.latex(sp.simplify(B.dcm(ENU))))\r\n",
    "\r\n",
    "W = B.orientnew(\"W\", \"Body\", (0, -alpha, beta), rot_order=\"XYZ\")\r\n",
    "math(f\"D_{{W}}^{{B}} = \" + sp.latex(W.dcm(B)))\r\n",
    "\r\n",
    "frames = [ECEF, NED, ENU, B, W]\r\n"
   ],
   "outputs": [
    {
     "output_type": "display_data",
     "data": {
      "text/plain": [
       "<IPython.core.display.Math object>"
      ],
      "text/latex": [
       "$\\displaystyle D_{NED}^{ECEF} = \\left[\\begin{matrix}- \\sin{\\left(lat \\right)} \\cos{\\left(lon \\right)} & - \\sin{\\left(lat \\right)} \\sin{\\left(lon \\right)} & \\cos{\\left(lat \\right)}\\\\- \\sin{\\left(lon \\right)} & \\cos{\\left(lon \\right)} & 0\\\\- \\cos{\\left(lat \\right)} \\cos{\\left(lon \\right)} & - \\sin{\\left(lon \\right)} \\cos{\\left(lat \\right)} & - \\sin{\\left(lat \\right)}\\end{matrix}\\right]$"
      ]
     },
     "metadata": {}
    },
    {
     "output_type": "display_data",
     "data": {
      "text/plain": [
       "<IPython.core.display.Math object>"
      ],
      "text/latex": [
       "$\\displaystyle D_{ENU}^{ECEF} = \\left[\\begin{matrix}- \\sin{\\left(lon \\right)} & \\cos{\\left(lon \\right)} & 0\\\\- \\sin{\\left(lat \\right)} \\cos{\\left(lon \\right)} & - \\sin{\\left(lat \\right)} \\sin{\\left(lon \\right)} & \\cos{\\left(lat \\right)}\\\\\\cos{\\left(lat \\right)} \\cos{\\left(lon \\right)} & \\sin{\\left(lon \\right)} \\cos{\\left(lat \\right)} & \\sin{\\left(lat \\right)}\\end{matrix}\\right]$"
      ]
     },
     "metadata": {}
    },
    {
     "output_type": "display_data",
     "data": {
      "text/plain": [
       "<IPython.core.display.Math object>"
      ],
      "text/latex": [
       "$\\displaystyle D_{B}^{NED} = \\left[\\begin{matrix}\\cos{\\left(\\psi \\right)} \\cos{\\left(\\theta \\right)} & \\sin{\\left(\\psi \\right)} \\cos{\\left(\\theta \\right)} & - \\sin{\\left(\\theta \\right)}\\\\\\sin{\\left(\\phi \\right)} \\sin{\\left(\\theta \\right)} \\cos{\\left(\\psi \\right)} - \\sin{\\left(\\psi \\right)} \\cos{\\left(\\phi \\right)} & \\sin{\\left(\\phi \\right)} \\sin{\\left(\\psi \\right)} \\sin{\\left(\\theta \\right)} + \\cos{\\left(\\phi \\right)} \\cos{\\left(\\psi \\right)} & \\sin{\\left(\\phi \\right)} \\cos{\\left(\\theta \\right)}\\\\\\sin{\\left(\\phi \\right)} \\sin{\\left(\\psi \\right)} + \\sin{\\left(\\theta \\right)} \\cos{\\left(\\phi \\right)} \\cos{\\left(\\psi \\right)} & - \\sin{\\left(\\phi \\right)} \\cos{\\left(\\psi \\right)} + \\sin{\\left(\\psi \\right)} \\sin{\\left(\\theta \\right)} \\cos{\\left(\\phi \\right)} & \\cos{\\left(\\phi \\right)} \\cos{\\left(\\theta \\right)}\\end{matrix}\\right]$"
      ]
     },
     "metadata": {}
    },
    {
     "output_type": "display_data",
     "data": {
      "text/plain": [
       "<IPython.core.display.Math object>"
      ],
      "text/latex": [
       "$\\displaystyle D_{B}^{ENU} = \\left[\\begin{matrix}\\sin{\\left(\\psi \\right)} \\cos{\\left(\\theta \\right)} & \\cos{\\left(\\psi \\right)} \\cos{\\left(\\theta \\right)} & \\sin{\\left(\\theta \\right)}\\\\\\sin{\\left(\\phi \\right)} \\sin{\\left(\\psi \\right)} \\sin{\\left(\\theta \\right)} + \\cos{\\left(\\phi \\right)} \\cos{\\left(\\psi \\right)} & \\sin{\\left(\\phi \\right)} \\sin{\\left(\\theta \\right)} \\cos{\\left(\\psi \\right)} - \\sin{\\left(\\psi \\right)} \\cos{\\left(\\phi \\right)} & - \\sin{\\left(\\phi \\right)} \\cos{\\left(\\theta \\right)}\\\\- \\sin{\\left(\\phi \\right)} \\cos{\\left(\\psi \\right)} + \\sin{\\left(\\psi \\right)} \\sin{\\left(\\theta \\right)} \\cos{\\left(\\phi \\right)} & \\sin{\\left(\\phi \\right)} \\sin{\\left(\\psi \\right)} + \\sin{\\left(\\theta \\right)} \\cos{\\left(\\phi \\right)} \\cos{\\left(\\psi \\right)} & - \\cos{\\left(\\phi \\right)} \\cos{\\left(\\theta \\right)}\\end{matrix}\\right]$"
      ]
     },
     "metadata": {}
    },
    {
     "output_type": "display_data",
     "data": {
      "text/plain": [
       "<IPython.core.display.Math object>"
      ],
      "text/latex": [
       "$\\displaystyle D_{W}^{B} = \\left[\\begin{matrix}\\cos{\\left(\\alpha \\right)} \\cos{\\left(\\beta \\right)} & \\sin{\\left(\\beta \\right)} & \\sin{\\left(\\alpha \\right)} \\cos{\\left(\\beta \\right)}\\\\- \\sin{\\left(\\beta \\right)} \\cos{\\left(\\alpha \\right)} & \\cos{\\left(\\beta \\right)} & - \\sin{\\left(\\alpha \\right)} \\sin{\\left(\\beta \\right)}\\\\- \\sin{\\left(\\alpha \\right)} & 0 & \\cos{\\left(\\alpha \\right)}\\end{matrix}\\right]$"
      ]
     },
     "metadata": {}
    }
   ],
   "metadata": {}
  }
 ],
 "metadata": {
  "interpreter": {
   "hash": "cc378375604d714125766041ac36b5bce9791f9b4638cf9ccf8affbc63e028c6"
  },
  "kernelspec": {
   "name": "python3",
   "display_name": "Python 3.9.5 64-bit ('main': conda)"
  },
  "language_info": {
   "codemirror_mode": {
    "name": "ipython",
    "version": 3
   },
   "file_extension": ".py",
   "mimetype": "text/x-python",
   "name": "python",
   "nbconvert_exporter": "python",
   "pygments_lexer": "ipython3",
   "version": "3.9.5"
  }
 },
 "nbformat": 4,
 "nbformat_minor": 4
}