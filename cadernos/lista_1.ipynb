{
 "cells": [
  {
   "cell_type": "markdown",
   "metadata": {},
   "source": [
    " <span style=\"font-size:250%;\">**Lista 1**</span>"
   ]
  },
  {
   "cell_type": "markdown",
   "metadata": {},
   "source": [
    "# Setup (rodar antes de qualquer outra célula)"
   ]
  },
  {
   "cell_type": "code",
   "execution_count": 1,
   "metadata": {},
   "outputs": [],
   "source": [
    "import sympy as sp\n",
    "import sympy.physics.vector as vec\n",
    "from mecvoo import *\n"
   ]
  },
  {
   "cell_type": "markdown",
   "metadata": {},
   "source": [
    "# Encontre as matrizes de rotação 𝑅𝑥(𝜙) (feita em sala),  𝑅𝑦(𝜃) e 𝑅𝑧(𝜓)."
   ]
  },
  {
   "cell_type": "code",
   "execution_count": 2,
   "metadata": {},
   "outputs": [
    {
     "data": {
      "text/latex": [
       "$\\displaystyle \\operatorname{R_{x}}{\\left(\\phi \\right)} = \\left[\\begin{matrix}1 & 0 & 0\\\\0 & \\cos{\\left(\\phi \\right)} & \\sin{\\left(\\phi \\right)}\\\\0 & - \\sin{\\left(\\phi \\right)} & \\cos{\\left(\\phi \\right)}\\end{matrix}\\right]$"
      ],
      "text/plain": [
       "<IPython.core.display.Math object>"
      ]
     },
     "metadata": {},
     "output_type": "display_data"
    },
    {
     "data": {
      "text/latex": [
       "$\\displaystyle \\operatorname{R_{y}}{\\left(\\theta \\right)} = \\left[\\begin{matrix}\\cos{\\left(\\theta \\right)} & 0 & - \\sin{\\left(\\theta \\right)}\\\\0 & 1 & 0\\\\\\sin{\\left(\\theta \\right)} & 0 & \\cos{\\left(\\theta \\right)}\\end{matrix}\\right]$"
      ],
      "text/plain": [
       "<IPython.core.display.Math object>"
      ]
     },
     "metadata": {},
     "output_type": "display_data"
    },
    {
     "data": {
      "text/latex": [
       "$\\displaystyle \\operatorname{R_{z}}{\\left(\\psi \\right)} = \\left[\\begin{matrix}\\cos{\\left(\\psi \\right)} & \\sin{\\left(\\psi \\right)} & 0\\\\- \\sin{\\left(\\psi \\right)} & \\cos{\\left(\\psi \\right)} & 0\\\\0 & 0 & 1\\end{matrix}\\right]$"
      ],
      "text/plain": [
       "<IPython.core.display.Math object>"
      ]
     },
     "metadata": {},
     "output_type": "display_data"
    }
   ],
   "source": [
    "phi, theta, psi = sp.symbols(\"phi theta psi\")\n",
    "Rx, Ry, Rz = sp.symbols(\"R_x R_y R_z\", cls=sp.Function, commutative=False)\n",
    "\n",
    "\n",
    "math(f\"{sp.latex(Rx(phi))} = {sp.latex(sp.rot_axis1(phi))}\"),\n",
    "math(f\"{sp.latex(Ry(theta))} = {sp.latex(sp.rot_axis2(theta))}\"),\n",
    "math(f\"{sp.latex(Rz(psi))} = {sp.latex(sp.rot_axis3(psi))}\")\n"
   ]
  },
  {
   "cell_type": "markdown",
   "metadata": {},
   "source": [
    "# Encontre a matriz de rotação $D_{b}^{NED}$ que rotaciona um vetor do sistema norte-leste-vertical $𝑆_{𝑁𝐸𝐷}$ para o sistema do corpo $𝑆_𝑏$. Informações: A sequência de rotação é $\\psi$, $\\theta$, $\\phi$ referentes, respectivamente, aos eixos $z$-$y$-$x$ (ou 3-2-1), e todas as rotações são feitas no sentido positivo."
   ]
  },
  {
   "cell_type": "code",
   "execution_count": 3,
   "metadata": {},
   "outputs": [
    {
     "data": {
      "text/latex": [
       "$\\displaystyle D_b^{NED} = \\left[\\begin{matrix}\\cos{\\left(\\psi \\right)} \\cos{\\left(\\theta \\right)} & \\sin{\\left(\\psi \\right)} \\cos{\\left(\\theta \\right)} & - \\sin{\\left(\\theta \\right)}\\\\\\sin{\\left(\\phi \\right)} \\sin{\\left(\\theta \\right)} \\cos{\\left(\\psi \\right)} - \\sin{\\left(\\psi \\right)} \\cos{\\left(\\phi \\right)} & \\sin{\\left(\\phi \\right)} \\sin{\\left(\\psi \\right)} \\sin{\\left(\\theta \\right)} + \\cos{\\left(\\phi \\right)} \\cos{\\left(\\psi \\right)} & \\sin{\\left(\\phi \\right)} \\cos{\\left(\\theta \\right)}\\\\\\sin{\\left(\\phi \\right)} \\sin{\\left(\\psi \\right)} + \\sin{\\left(\\theta \\right)} \\cos{\\left(\\phi \\right)} \\cos{\\left(\\psi \\right)} & - \\sin{\\left(\\phi \\right)} \\cos{\\left(\\psi \\right)} + \\sin{\\left(\\psi \\right)} \\sin{\\left(\\theta \\right)} \\cos{\\left(\\phi \\right)} & \\cos{\\left(\\phi \\right)} \\cos{\\left(\\theta \\right)}\\end{matrix}\\right]$"
      ],
      "text/plain": [
       "<IPython.core.display.Math object>"
      ]
     },
     "metadata": {},
     "output_type": "display_data"
    }
   ],
   "source": [
    "# Cria um sistema de referência NED\n",
    "NED = vec.ReferenceFrame(\"NED\")\n",
    "# Cria outro sistema de referência, baseado no sistema NED por uma rotação 321\n",
    "b = NED.orientnew(\"b\", \"Body\", [psi, theta, phi], rot_order=\"zyx\")\n",
    "# Exibe a matriz de rotação (ou matriz de cossenos diretores) de NED para b\n",
    "math(f\"D_b^{{NED}} = {sp.latex(b.dcm(NED))}\")\n"
   ]
  },
  {
   "cell_type": "markdown",
   "metadata": {},
   "source": [
    "# Encontre a matriz de rotação $D_{NED}^{b}$,  que rotaciona um vetor de $S_b$ para $S_{NED}$.  Em seguida encontre $A_{NED}$, sendo $A_b = (1, 0, \\sqrt{3})$."
   ]
  },
  {
   "cell_type": "code",
   "execution_count": 4,
   "metadata": {},
   "outputs": [
    {
     "data": {
      "text/latex": [
       "$\\displaystyle D_{NED}^b = \\left[\\begin{matrix}\\cos{\\left(\\psi \\right)} \\cos{\\left(\\theta \\right)} & \\sin{\\left(\\phi \\right)} \\sin{\\left(\\theta \\right)} \\cos{\\left(\\psi \\right)} - \\sin{\\left(\\psi \\right)} \\cos{\\left(\\phi \\right)} & \\sin{\\left(\\phi \\right)} \\sin{\\left(\\psi \\right)} + \\sin{\\left(\\theta \\right)} \\cos{\\left(\\phi \\right)} \\cos{\\left(\\psi \\right)}\\\\\\sin{\\left(\\psi \\right)} \\cos{\\left(\\theta \\right)} & \\sin{\\left(\\phi \\right)} \\sin{\\left(\\psi \\right)} \\sin{\\left(\\theta \\right)} + \\cos{\\left(\\phi \\right)} \\cos{\\left(\\psi \\right)} & - \\sin{\\left(\\phi \\right)} \\cos{\\left(\\psi \\right)} + \\sin{\\left(\\psi \\right)} \\sin{\\left(\\theta \\right)} \\cos{\\left(\\phi \\right)}\\\\- \\sin{\\left(\\theta \\right)} & \\sin{\\left(\\phi \\right)} \\cos{\\left(\\theta \\right)} & \\cos{\\left(\\phi \\right)} \\cos{\\left(\\theta \\right)}\\end{matrix}\\right]$"
      ],
      "text/plain": [
       "<IPython.core.display.Math object>"
      ]
     },
     "metadata": {},
     "output_type": "display_data"
    },
    {
     "data": {
      "text/latex": [
       "$\\displaystyle A_b = \\left[\\begin{matrix}1\\\\0\\\\\\sqrt{3}\\end{matrix}\\right]$"
      ],
      "text/plain": [
       "<IPython.core.display.Math object>"
      ]
     },
     "metadata": {},
     "output_type": "display_data"
    },
    {
     "data": {
      "text/latex": [
       "$\\displaystyle A_{NED} = D_{NED}^b A_b)$"
      ],
      "text/plain": [
       "<IPython.core.display.Math object>"
      ]
     },
     "metadata": {},
     "output_type": "display_data"
    },
    {
     "data": {
      "text/latex": [
       "$\\displaystyle A_{NED} = \\left[\\begin{matrix}\\sqrt{3} \\left(\\sin{\\left(\\phi \\right)} \\sin{\\left(\\psi \\right)} + \\sin{\\left(\\theta \\right)} \\cos{\\left(\\phi \\right)} \\cos{\\left(\\psi \\right)}\\right) + \\cos{\\left(\\psi \\right)} \\cos{\\left(\\theta \\right)}\\\\\\sqrt{3} \\left(- \\sin{\\left(\\phi \\right)} \\cos{\\left(\\psi \\right)} + \\sin{\\left(\\psi \\right)} \\sin{\\left(\\theta \\right)} \\cos{\\left(\\phi \\right)}\\right) + \\sin{\\left(\\psi \\right)} \\cos{\\left(\\theta \\right)}\\\\- \\sin{\\left(\\theta \\right)} + \\sqrt{3} \\cos{\\left(\\phi \\right)} \\cos{\\left(\\theta \\right)}\\end{matrix}\\right]$"
      ],
      "text/plain": [
       "<IPython.core.display.Math object>"
      ]
     },
     "metadata": {},
     "output_type": "display_data"
    }
   ],
   "source": [
    "# Constrói o vetor A, a partir das suas 3 coordenadas no sistema b\n",
    "A = vector((1, 0, sp.sqrt(3)), b)\n",
    "\n",
    "\n",
    "math(f\"D_{{NED}}^b = {sp.latex(NED.dcm(b))}\")  # Matriz de cossenos diretores\n",
    "# to_matrix expressa o vetor como uma matriz em um sistema específico\n",
    "math(f\"A_b = {sp.latex(A.to_matrix(b))}\")\n",
    "math(f\"A_{{NED}} = D_{{NED}}^b A_b\")\n",
    "# to_matrix pode ser usado para expressar um vetor em qualquer \n",
    "math(f\"A_{{NED}} = {sp.latex(A.to_matrix(NED))}\")\n"
   ]
  },
  {
   "cell_type": "markdown",
   "metadata": {},
   "source": [
    "# Para a matriz de rotação encontrada $D_b^{NED}$, considere $\\phi = 0$ e prove que $𝑅(\\psi,\\theta,0)^{−1} =𝑅(\\psi,\\theta,0)^𝑡$"
   ]
  },
  {
   "cell_type": "code",
   "execution_count": 5,
   "metadata": {},
   "outputs": [
    {
     "data": {
      "text/latex": [
       "$\\displaystyle R(\\psi, \\theta, 0) = \\left[\\begin{matrix}\\cos{\\left(\\psi \\right)} \\cos{\\left(\\theta \\right)} & \\sin{\\left(\\psi \\right)} \\cos{\\left(\\theta \\right)} & - \\sin{\\left(\\theta \\right)}\\\\- \\sin{\\left(\\psi \\right)} & \\cos{\\left(\\psi \\right)} & 0\\\\\\sin{\\left(\\theta \\right)} \\cos{\\left(\\psi \\right)} & \\sin{\\left(\\psi \\right)} \\sin{\\left(\\theta \\right)} & \\cos{\\left(\\theta \\right)}\\end{matrix}\\right]$"
      ],
      "text/plain": [
       "<IPython.core.display.Math object>"
      ]
     },
     "metadata": {},
     "output_type": "display_data"
    },
    {
     "data": {
      "text/latex": [
       "$\\displaystyle R^\\top = R^{-1} \\iff R^\\top R = I$"
      ],
      "text/plain": [
       "<IPython.core.display.Math object>"
      ]
     },
     "metadata": {},
     "output_type": "display_data"
    },
    {
     "data": {
      "text/latex": [
       "$\\displaystyle R^\\top R = \\left[\\begin{matrix}\\cos{\\left(\\psi \\right)} \\cos{\\left(\\theta \\right)} & - \\sin{\\left(\\psi \\right)} & \\sin{\\left(\\theta \\right)} \\cos{\\left(\\psi \\right)}\\\\\\sin{\\left(\\psi \\right)} \\cos{\\left(\\theta \\right)} & \\cos{\\left(\\psi \\right)} & \\sin{\\left(\\psi \\right)} \\sin{\\left(\\theta \\right)}\\\\- \\sin{\\left(\\theta \\right)} & 0 & \\cos{\\left(\\theta \\right)}\\end{matrix}\\right]\\left[\\begin{matrix}\\cos{\\left(\\psi \\right)} \\cos{\\left(\\theta \\right)} & \\sin{\\left(\\psi \\right)} \\cos{\\left(\\theta \\right)} & - \\sin{\\left(\\theta \\right)}\\\\- \\sin{\\left(\\psi \\right)} & \\cos{\\left(\\psi \\right)} & 0\\\\\\sin{\\left(\\theta \\right)} \\cos{\\left(\\psi \\right)} & \\sin{\\left(\\psi \\right)} \\sin{\\left(\\theta \\right)} & \\cos{\\left(\\theta \\right)}\\end{matrix}\\right]$"
      ],
      "text/plain": [
       "<IPython.core.display.Math object>"
      ]
     },
     "metadata": {},
     "output_type": "display_data"
    },
    {
     "data": {
      "text/latex": [
       "$\\displaystyle R^\\top R = \\left[\\begin{matrix}\\sin^{2}{\\left(\\psi \\right)} + \\sin^{2}{\\left(\\theta \\right)} \\cos^{2}{\\left(\\psi \\right)} + \\cos^{2}{\\left(\\psi \\right)} \\cos^{2}{\\left(\\theta \\right)} & \\sin{\\left(\\psi \\right)} \\sin^{2}{\\left(\\theta \\right)} \\cos{\\left(\\psi \\right)} + \\sin{\\left(\\psi \\right)} \\cos{\\left(\\psi \\right)} \\cos^{2}{\\left(\\theta \\right)} - \\sin{\\left(\\psi \\right)} \\cos{\\left(\\psi \\right)} & 0\\\\\\sin{\\left(\\psi \\right)} \\sin^{2}{\\left(\\theta \\right)} \\cos{\\left(\\psi \\right)} + \\sin{\\left(\\psi \\right)} \\cos{\\left(\\psi \\right)} \\cos^{2}{\\left(\\theta \\right)} - \\sin{\\left(\\psi \\right)} \\cos{\\left(\\psi \\right)} & \\sin^{2}{\\left(\\psi \\right)} \\sin^{2}{\\left(\\theta \\right)} + \\sin^{2}{\\left(\\psi \\right)} \\cos^{2}{\\left(\\theta \\right)} + \\cos^{2}{\\left(\\psi \\right)} & 0\\\\0 & 0 & \\sin^{2}{\\left(\\theta \\right)} + \\cos^{2}{\\left(\\theta \\right)}\\end{matrix}\\right]$"
      ],
      "text/plain": [
       "<IPython.core.display.Math object>"
      ]
     },
     "metadata": {},
     "output_type": "display_data"
    },
    {
     "data": {
      "text/latex": [
       "$\\displaystyle R^\\top R = \\left[\\begin{matrix}1 & 0 & 0\\\\0 & 1 & 0\\\\0 & 0 & 1\\end{matrix}\\right]\\iff R^\\top = R^{-1}$"
      ],
      "text/plain": [
       "<IPython.core.display.Math object>"
      ]
     },
     "metadata": {},
     "output_type": "display_data"
    }
   ],
   "source": [
    "# Substitui phi=0 na dcm\n",
    "R = b.dcm(NED).subs(phi, 0)\n",
    "math(r\"R(\\psi, \\theta, 0) = \" + sp.latex(R))\n",
    "\n",
    "# AB=I se e somente se B=A^(-1)\n",
    "math(r\"R^\\top = R^{-1} \\iff R^\\top R = I\")\n",
    "math(r\"R^\\top R = \" + sp.latex(R.T) + sp.latex(R))\n",
    "math(\n",
    "    r\"R^\\top R = \" + sp.latex(R := R.T @ R)\n",
    ")  # Exibe e guarda o resultado intermediário\n",
    "math(r\"R^\\top R = \" + sp.latex(sp.trigsimp(R)) + r\"\\iff R^\\top = R^{-1}\")  # QED\n"
   ]
  },
  {
   "cell_type": "markdown",
   "metadata": {},
   "source": [
    "# Seja uma aeronave de massa $m$, cuja atitude atual é definida pelos ângulos $\\psi, \\theta, \\phi$  em um local cuja aceleração da gravidade é $g_0$.  Qual é  a força da gravidade atuante na aeronave, representada em 𝑆𝑏."
   ]
  },
  {
   "cell_type": "code",
   "execution_count": 6,
   "metadata": {},
   "outputs": [
    {
     "data": {
      "text/latex": [
       "$\\displaystyle g_b = \\left[\\begin{matrix}g_{0} \\sin{\\left(\\psi \\right)} \\cos{\\left(\\theta \\right)}\\\\g_{0} \\left(\\sin{\\left(\\phi \\right)} \\sin{\\left(\\psi \\right)} \\sin{\\left(\\theta \\right)} + \\cos{\\left(\\phi \\right)} \\cos{\\left(\\psi \\right)}\\right)\\\\g_{0} \\left(- \\sin{\\left(\\phi \\right)} \\cos{\\left(\\psi \\right)} + \\sin{\\left(\\psi \\right)} \\sin{\\left(\\theta \\right)} \\cos{\\left(\\phi \\right)}\\right)\\end{matrix}\\right]$"
      ],
      "text/plain": [
       "<IPython.core.display.Math object>"
      ]
     },
     "metadata": {},
     "output_type": "display_data"
    },
    {
     "data": {
      "text/latex": [
       "$\\displaystyle F = mg$"
      ],
      "text/plain": [
       "<IPython.core.display.Math object>"
      ]
     },
     "metadata": {},
     "output_type": "display_data"
    },
    {
     "data": {
      "text/latex": [
       "$\\displaystyle F_b = \\left[\\begin{matrix}g_{0} m \\sin{\\left(\\psi \\right)} \\cos{\\left(\\theta \\right)}\\\\g_{0} m \\left(\\sin{\\left(\\phi \\right)} \\sin{\\left(\\psi \\right)} \\sin{\\left(\\theta \\right)} + \\cos{\\left(\\phi \\right)} \\cos{\\left(\\psi \\right)}\\right)\\\\g_{0} m \\left(- \\sin{\\left(\\phi \\right)} \\cos{\\left(\\psi \\right)} + \\sin{\\left(\\psi \\right)} \\sin{\\left(\\theta \\right)} \\cos{\\left(\\phi \\right)}\\right)\\end{matrix}\\right]$"
      ],
      "text/plain": [
       "<IPython.core.display.Math object>"
      ]
     },
     "metadata": {},
     "output_type": "display_data"
    }
   ],
   "source": [
    "g0, m, psi, theta, phi = sp.symbols(\"g_0, m, psi, theta, phi\")\n",
    "\n",
    "# Constrói o vetor da gravidade\n",
    "g = g0 * NED.y\n",
    "F = m * g\n",
    "math(\"g_b = \" + sp.latex(g.to_matrix(b)))\n",
    "math(\"F = mg\")\n",
    "math(\"F_b = \" + sp.latex(F.to_matrix(b)))\n"
   ]
  },
  {
   "cell_type": "markdown",
   "metadata": {},
   "source": [
    "# Calcule a força obtida no item anterior se $\\psi = 120°, \\theta = 30°, \\phi = 30°, m = 1000 \\,\\mathrm{kg}$ e $g_0= 9,81 \\,\\mathrm{m/s^2}$."
   ]
  },
  {
   "cell_type": "code",
   "execution_count": 7,
   "metadata": {},
   "outputs": [
    {
     "data": {
      "text/latex": [
       "$\\displaystyle F = \\left[\\begin{matrix}\\frac{14715}{2}\\\\- \\frac{4905 \\sqrt{3}}{4}\\\\\\frac{24525}{4}\\end{matrix}\\right]$"
      ],
      "text/plain": [
       "<IPython.core.display.Math object>"
      ]
     },
     "metadata": {},
     "output_type": "display_data"
    }
   ],
   "source": [
    "# Dicionário de substituições da questão\n",
    "subs6 = {\n",
    "    psi: rad(120),\n",
    "    theta: rad(30),\n",
    "    phi: rad(30),\n",
    "    m: 1000,\n",
    "    g0: sp.Rational(981, 100),\n",
    "}\n",
    "\n",
    "math(\"F = \" + sp.latex(F.to_matrix(b).subs(subs6)))\n"
   ]
  },
  {
   "cell_type": "markdown",
   "metadata": {},
   "source": [
    "# Encontre a matriz de rotação $D_{b}^{w}$"
   ]
  },
  {
   "cell_type": "code",
   "execution_count": 8,
   "metadata": {},
   "outputs": [
    {
     "data": {
      "text/latex": [
       "$\\displaystyle D_b^w = R_y(\\alpha) R_z(-\\beta)$"
      ],
      "text/plain": [
       "<IPython.core.display.Math object>"
      ]
     },
     "metadata": {},
     "output_type": "display_data"
    },
    {
     "data": {
      "text/latex": [
       "$\\displaystyle D_b^w = \\left[\\begin{matrix}\\cos{\\left(\\alpha \\right)} & 0 & - \\sin{\\left(\\alpha \\right)}\\\\0 & 1 & 0\\\\\\sin{\\left(\\alpha \\right)} & 0 & \\cos{\\left(\\alpha \\right)}\\end{matrix}\\right] \\left[\\begin{matrix}\\cos{\\left(\\beta \\right)} & - \\sin{\\left(\\beta \\right)} & 0\\\\\\sin{\\left(\\beta \\right)} & \\cos{\\left(\\beta \\right)} & 0\\\\0 & 0 & 1\\end{matrix}\\right]$"
      ],
      "text/plain": [
       "<IPython.core.display.Math object>"
      ]
     },
     "metadata": {},
     "output_type": "display_data"
    },
    {
     "data": {
      "text/latex": [
       "$\\displaystyle D_b^w = \\left[\\begin{matrix}\\cos{\\left(\\alpha \\right)} \\cos{\\left(\\beta \\right)} & - \\sin{\\left(\\beta \\right)} \\cos{\\left(\\alpha \\right)} & - \\sin{\\left(\\alpha \\right)}\\\\\\sin{\\left(\\beta \\right)} & \\cos{\\left(\\beta \\right)} & 0\\\\\\sin{\\left(\\alpha \\right)} \\cos{\\left(\\beta \\right)} & - \\sin{\\left(\\alpha \\right)} \\sin{\\left(\\beta \\right)} & \\cos{\\left(\\alpha \\right)}\\end{matrix}\\right]$"
      ],
      "text/plain": [
       "<IPython.core.display.Math object>"
      ]
     },
     "metadata": {},
     "output_type": "display_data"
    }
   ],
   "source": [
    "alpha, beta= sp.symbols(\"alpha, beta\")\n",
    "\n",
    "w = b.orientnew(\"w\", \"Body\", [-alpha, beta, 0], \"yzx\")\n",
    "\n",
    "math(r\"D_b^w = R_y(\\alpha) R_z(-\\beta)\")\n",
    "math(f\"D_b^w = {sp.latex(sp.rot_axis2(alpha))} {sp.latex(sp.rot_axis3(-beta))}\")\n",
    "math(f\"D_b^w = {sp.latex(b.dcm(w))}\")\n"
   ]
  },
  {
   "cell_type": "markdown",
   "metadata": {},
   "source": [
    "# Uma aeronave voa com velocidade $𝑉_𝑇 = 100\\,\\mathrm{m/s}$ em relação à massa de ar. A massa de  ar  está parada  em  relação  ao  solo. Considerando $\\alpha = 10° , \\beta = 5° , \\phi = 30° , \\theta = 20° , \\psi = 90° $, calcule:"
   ]
  },
  {
   "cell_type": "code",
   "execution_count": 9,
   "metadata": {},
   "outputs": [],
   "source": [
    "V_T = sp.symbols(\"V_T\")\n",
    "# Dicionário de valores da questão\n",
    "subs8 = {\n",
    "    V_T: 100,\n",
    "    alpha: rad(10),\n",
    "    beta: rad(5),\n",
    "    phi: rad(30),\n",
    "    theta: rad(20),\n",
    "    psi: rad(90),\n",
    "}\n",
    "# Constrói o vetor V\n",
    "V = V_T * w.x\n"
   ]
  },
  {
   "cell_type": "markdown",
   "metadata": {},
   "source": [
    "## As componentes da velocidade $V_b = \\begin{bmatrix} U & V & W \\end{bmatrix}$, em $S_b$"
   ]
  },
  {
   "cell_type": "code",
   "execution_count": 10,
   "metadata": {},
   "outputs": [
    {
     "data": {
      "text/latex": [
       "$\\displaystyle V_b = D_b^w V_w$"
      ],
      "text/plain": [
       "<IPython.core.display.Math object>"
      ]
     },
     "metadata": {},
     "output_type": "display_data"
    },
    {
     "data": {
      "text/latex": [
       "$\\displaystyle V_b = \\left[\\begin{matrix}\\cos{\\left(\\alpha \\right)} \\cos{\\left(\\beta \\right)} & - \\sin{\\left(\\beta \\right)} \\cos{\\left(\\alpha \\right)} & - \\sin{\\left(\\alpha \\right)}\\\\\\sin{\\left(\\beta \\right)} & \\cos{\\left(\\beta \\right)} & 0\\\\\\sin{\\left(\\alpha \\right)} \\cos{\\left(\\beta \\right)} & - \\sin{\\left(\\alpha \\right)} \\sin{\\left(\\beta \\right)} & \\cos{\\left(\\alpha \\right)}\\end{matrix}\\right] \\left[\\begin{matrix}V_{T}\\\\0\\\\0\\end{matrix}\\right]$"
      ],
      "text/plain": [
       "<IPython.core.display.Math object>"
      ]
     },
     "metadata": {},
     "output_type": "display_data"
    },
    {
     "data": {
      "text/latex": [
       "$\\displaystyle V_b = \\left[\\begin{matrix}V_{T} \\cos{\\left(\\alpha \\right)} \\cos{\\left(\\beta \\right)}\\\\V_{T} \\sin{\\left(\\beta \\right)}\\\\V_{T} \\sin{\\left(\\alpha \\right)} \\cos{\\left(\\beta \\right)}\\end{matrix}\\right]$"
      ],
      "text/plain": [
       "<IPython.core.display.Math object>"
      ]
     },
     "metadata": {},
     "output_type": "display_data"
    },
    {
     "data": {
      "text/latex": [
       "$\\displaystyle V_b = \\left[\\begin{matrix}100 \\cos{\\left(\\frac{\\pi}{36} \\right)} \\cos{\\left(\\frac{\\pi}{18} \\right)}\\\\100 \\sin{\\left(\\frac{\\pi}{36} \\right)}\\\\100 \\sin{\\left(\\frac{\\pi}{18} \\right)} \\cos{\\left(\\frac{\\pi}{36} \\right)}\\end{matrix}\\right]$"
      ],
      "text/plain": [
       "<IPython.core.display.Math object>"
      ]
     },
     "metadata": {},
     "output_type": "display_data"
    },
    {
     "data": {
      "text/latex": [
       "$\\displaystyle V_b = \\left[\\begin{matrix}98.1\\\\8.71\\\\17.3\\end{matrix}\\right]$"
      ],
      "text/plain": [
       "<IPython.core.display.Math object>"
      ]
     },
     "metadata": {},
     "output_type": "display_data"
    }
   ],
   "source": [
    "math(f\"V_b = D_b^w V_w\")\n",
    "math(f\"V_b = {sp.latex(b.dcm(w))} {sp.latex(V.to_matrix(w))}\")\n",
    "math(f\"V_b = {sp.latex(V.to_matrix(b))}\")\n",
    "math(f\"V_b = {sp.latex(V.to_matrix(b).subs(subs8))}\")\n",
    "math(f\"V_b = {sp.latex(V.to_matrix(b).evalf(3, subs=subs8))}\")\n"
   ]
  },
  {
   "cell_type": "markdown",
   "metadata": {},
   "source": [
    "## As componentes da velocidade $V_{NED} = \\begin{bmatrix} V_N & V_E & V_D \\end{bmatrix}$, em $S_{NED}$"
   ]
  },
  {
   "cell_type": "code",
   "execution_count": 11,
   "metadata": {},
   "outputs": [
    {
     "data": {
      "text/latex": [
       "$\\displaystyle V_{NED} = D_{NED}^b D_b^w V_w$"
      ],
      "text/plain": [
       "<IPython.core.display.Math object>"
      ]
     },
     "metadata": {},
     "output_type": "display_data"
    },
    {
     "data": {
      "text/latex": [
       "$\\displaystyle V_{NED} = D_{NED}^b V_b$"
      ],
      "text/plain": [
       "<IPython.core.display.Math object>"
      ]
     },
     "metadata": {},
     "output_type": "display_data"
    },
    {
     "data": {
      "text/latex": [
       "$\\displaystyle V_{NED} = \\left[\\begin{matrix}V_{T} \\left(\\left(\\sin{\\left(\\phi \\right)} \\sin{\\left(\\psi \\right)} + \\sin{\\left(\\theta \\right)} \\cos{\\left(\\phi \\right)} \\cos{\\left(\\psi \\right)}\\right) \\sin{\\left(\\alpha \\right)} \\cos{\\left(\\beta \\right)} + \\left(\\sin{\\left(\\phi \\right)} \\sin{\\left(\\theta \\right)} \\cos{\\left(\\psi \\right)} - \\sin{\\left(\\psi \\right)} \\cos{\\left(\\phi \\right)}\\right) \\sin{\\left(\\beta \\right)} + \\cos{\\left(\\alpha \\right)} \\cos{\\left(\\beta \\right)} \\cos{\\left(\\psi \\right)} \\cos{\\left(\\theta \\right)}\\right)\\\\V_{T} \\left(- \\left(\\sin{\\left(\\phi \\right)} \\cos{\\left(\\psi \\right)} - \\sin{\\left(\\psi \\right)} \\sin{\\left(\\theta \\right)} \\cos{\\left(\\phi \\right)}\\right) \\sin{\\left(\\alpha \\right)} \\cos{\\left(\\beta \\right)} + \\left(\\sin{\\left(\\phi \\right)} \\sin{\\left(\\psi \\right)} \\sin{\\left(\\theta \\right)} + \\cos{\\left(\\phi \\right)} \\cos{\\left(\\psi \\right)}\\right) \\sin{\\left(\\beta \\right)} + \\sin{\\left(\\psi \\right)} \\cos{\\left(\\alpha \\right)} \\cos{\\left(\\beta \\right)} \\cos{\\left(\\theta \\right)}\\right)\\\\V_{T} \\left(\\sin{\\left(\\alpha \\right)} \\cos{\\left(\\beta \\right)} \\cos{\\left(\\phi \\right)} \\cos{\\left(\\theta \\right)} + \\sin{\\left(\\beta \\right)} \\sin{\\left(\\phi \\right)} \\cos{\\left(\\theta \\right)} - \\sin{\\left(\\theta \\right)} \\cos{\\left(\\alpha \\right)} \\cos{\\left(\\beta \\right)}\\right)\\end{matrix}\\right]$"
      ],
      "text/plain": [
       "<IPython.core.display.Math object>"
      ]
     },
     "metadata": {},
     "output_type": "display_data"
    },
    {
     "data": {
      "text/latex": [
       "$\\displaystyle V_{NED} = \\left[\\begin{matrix}- 50 \\sqrt{3} \\sin{\\left(\\frac{\\pi}{36} \\right)} + 50 \\sin{\\left(\\frac{\\pi}{18} \\right)} \\cos{\\left(\\frac{\\pi}{36} \\right)}\\\\50 \\sin{\\left(\\frac{\\pi}{36} \\right)} \\sin{\\left(\\frac{\\pi}{9} \\right)} + 50 \\sqrt{3} \\sin{\\left(\\frac{\\pi}{18} \\right)} \\sin{\\left(\\frac{\\pi}{9} \\right)} \\cos{\\left(\\frac{\\pi}{36} \\right)} + 100 \\cos{\\left(\\frac{\\pi}{36} \\right)} \\cos{\\left(\\frac{\\pi}{18} \\right)} \\cos{\\left(\\frac{\\pi}{9} \\right)}\\\\- 100 \\sin{\\left(\\frac{\\pi}{9} \\right)} \\cos{\\left(\\frac{\\pi}{36} \\right)} \\cos{\\left(\\frac{\\pi}{18} \\right)} + 50 \\sin{\\left(\\frac{\\pi}{36} \\right)} \\cos{\\left(\\frac{\\pi}{9} \\right)} + 50 \\sqrt{3} \\sin{\\left(\\frac{\\pi}{18} \\right)} \\cos{\\left(\\frac{\\pi}{36} \\right)} \\cos{\\left(\\frac{\\pi}{9} \\right)}\\end{matrix}\\right]$"
      ],
      "text/plain": [
       "<IPython.core.display.Math object>"
      ]
     },
     "metadata": {},
     "output_type": "display_data"
    },
    {
     "data": {
      "text/latex": [
       "$\\displaystyle V_{NED} = \\left[\\begin{matrix}1.1\\\\98.8\\\\-15.4\\end{matrix}\\right]$"
      ],
      "text/plain": [
       "<IPython.core.display.Math object>"
      ]
     },
     "metadata": {},
     "output_type": "display_data"
    }
   ],
   "source": [
    "math(f\"V_{{NED}} = D_{{NED}}^b D_b^w V_w\")\n",
    "math(f\"V_{{NED}} = D_{{NED}}^b V_b\")\n",
    "math(f\"V_{{NED}} = {sp.latex(sp.simplify(V.to_matrix(NED)))}\")\n",
    "math(f\"V_{{NED}} = {sp.latex(V.to_matrix(NED).subs(subs8))}\")\n",
    "math(f\"V_{{NED}} = {sp.latex(V.to_matrix(NED).evalf(3, subs=subs8))}\")\n"
   ]
  },
  {
   "cell_type": "markdown",
   "metadata": {},
   "source": [
    "# Considere  um  sistema  de  referência $S_{ECEF}$ com  centro  no  centro  da  Terra  e  que rotaciona com ela. O eixo $Z$ está alinhado com o eixo de rotação da Terra, o eixo $X$ passa na latitude $\\phi = 0$ e longitude $\\lambda = 0$ e o eixo $Y$ completa o sistema dextrogiro.\n"
   ]
  },
  {
   "cell_type": "code",
   "execution_count": 12,
   "metadata": {},
   "outputs": [],
   "source": [
    "lamda, phi = sp.symbols(\"lambda, phi\")\n",
    "ECEF = NED.orientnew(\"ECEF\", \"Body\", [phi + rad(90), -lamda, 0], \"yzx\")"
   ]
  },
  {
   "cell_type": "markdown",
   "metadata": {},
   "source": [
    "## Encontre $D_{NED}^{ECEF}$. Informações: ache primeiro uma matriz de transformação que faça os eixos $X$,$Y$, e $Z$ do sistema NED e ECEF coincidirem para $\\phi = 0$ e longitude $\\lambda = 0$. Então, aplique as rotações $\\lambda$ e $–\\phi$.  "
   ]
  },
  {
   "cell_type": "code",
   "execution_count": 13,
   "metadata": {},
   "outputs": [
    {
     "data": {
      "text/latex": [
       "$\\displaystyle D_{NED}^{ECEF} =R_y(-\\phi) R_x(\\lambda) R_y(-\\pi/2) = R_y(-\\pi/2 - \\phi) R_z(\\lambda)$"
      ],
      "text/plain": [
       "<IPython.core.display.Math object>"
      ]
     },
     "metadata": {},
     "output_type": "display_data"
    },
    {
     "data": {
      "text/latex": [
       "$\\displaystyle D_{NED}^{ECEF} =\\left[\\begin{matrix}- \\sin{\\left(\\phi \\right)} \\cos{\\left(\\lambda \\right)} & - \\sin{\\left(\\lambda \\right)} \\sin{\\left(\\phi \\right)} & \\cos{\\left(\\phi \\right)}\\\\- \\sin{\\left(\\lambda \\right)} & \\cos{\\left(\\lambda \\right)} & 0\\\\- \\cos{\\left(\\lambda \\right)} \\cos{\\left(\\phi \\right)} & - \\sin{\\left(\\lambda \\right)} \\cos{\\left(\\phi \\right)} & - \\sin{\\left(\\phi \\right)}\\end{matrix}\\right] = \\left[\\begin{matrix}- \\sin{\\left(\\phi \\right)} \\cos{\\left(\\lambda \\right)} & - \\sin{\\left(\\lambda \\right)} \\sin{\\left(\\phi \\right)} & \\cos{\\left(\\phi \\right)}\\\\- \\sin{\\left(\\lambda \\right)} & \\cos{\\left(\\lambda \\right)} & 0\\\\- \\cos{\\left(\\lambda \\right)} \\cos{\\left(\\phi \\right)} & - \\sin{\\left(\\lambda \\right)} \\cos{\\left(\\phi \\right)} & - \\sin{\\left(\\phi \\right)}\\end{matrix}\\right]$"
      ],
      "text/plain": [
       "<IPython.core.display.Math object>"
      ]
     },
     "metadata": {},
     "output_type": "display_data"
    }
   ],
   "source": [
    "# Dus possíveis rotações (a primeira rotação, de 90 graus, substitui o eixo Z por X)\n",
    "math(\n",
    "    r\"D_{NED}^{ECEF} =\"\n",
    "    + r\"R_y(-\\phi) R_x(\\lambda) R_y(-\\pi/2) = \"\n",
    "    + r\"R_y(-\\pi/2 - \\phi) R_z(\\lambda)\"\n",
    ")\n",
    "\n",
    "# Mostra a equivalência das rotações\n",
    "math(\n",
    "    r\"D_{NED}^{ECEF} =\"\n",
    "    + sp.latex(sp.rot_axis2(-phi) @ sp.rot_axis1(lamda) @ sp.rot_axis2(-sp.pi / 2))\n",
    "    + \" = \"\n",
    "    + sp.latex(sp.rot_axis2(-sp.pi / 2 - phi) @ sp.rot_axis3(lamda))\n",
    ")\n",
    "\n"
   ]
  },
  {
   "cell_type": "markdown",
   "metadata": {},
   "source": [
    "## Considerando uma Terra perfeitamente esférica (desconsiderando que a Terra é oblata/esferoide) com raio $R$, como converter de latitude/longitude/altitude para  coordenada  ECEF?  E  de  coordenada  ECEF  para  latitude/longitude  e altitude?"
   ]
  },
  {
   "cell_type": "code",
   "execution_count": 14,
   "metadata": {},
   "outputs": [
    {
     "data": {
      "text/latex": [
       "$\\displaystyle \\left[\\begin{matrix}X\\\\Y\\\\Z\\end{matrix}\\right]_{ECEF} =  R_z(-lon) R_y(lat) \\begin{bmatrix} 1 \\\\ 0 \\\\ 0 \\end{bmatrix} (R + h)$"
      ],
      "text/plain": [
       "<IPython.core.display.Math object>"
      ]
     },
     "metadata": {},
     "output_type": "display_data"
    },
    {
     "data": {
      "text/latex": [
       "$\\displaystyle \\left[\\begin{matrix}X\\\\Y\\\\Z\\end{matrix}\\right]_{ECEF} =  \\left[\\begin{matrix}\\left(R + h\\right) \\cos{\\left(\\frac{\\pi lat}{180} \\right)} \\cos{\\left(\\frac{\\pi lon}{180} \\right)}\\\\\\left(R + h\\right) \\sin{\\left(\\frac{\\pi lon}{180} \\right)} \\cos{\\left(\\frac{\\pi lat}{180} \\right)}\\\\\\left(R + h\\right) \\sin{\\left(\\frac{\\pi lat}{180} \\right)}\\end{matrix}\\right]$"
      ],
      "text/plain": [
       "<IPython.core.display.Math object>"
      ]
     },
     "metadata": {},
     "output_type": "display_data"
    },
    {
     "data": {
      "text/latex": [
       "$\\displaystyle \\begin{bmatrix} lon \\\\ lat \\\\ alt \\end{bmatrix} = \\left[\\begin{matrix}\\operatorname{atan_{2}}{\\left(Y,X \\right)}\\\\\\operatorname{atan}{\\left(\\frac{Z}{\\sqrt{X^{2} + Y^{2}}} \\right)}\\\\- R + \\sqrt{X^{2} + Y^{2} + Z^{2}}\\end{matrix}\\right]$"
      ],
      "text/plain": [
       "<IPython.core.display.Math object>"
      ]
     },
     "metadata": {},
     "output_type": "display_data"
    }
   ],
   "source": [
    "# Numa Terra esférica, a coordenada será igual a um vetor saindo do centro com\n",
    "# magnitude R + altitude e ângulos de rotação phi e lambda\n",
    "lat, lon = sp.symbols(\"lat, lon\")\n",
    "R, h = sp.symbols(\"R, h\", positive=True)\n",
    "\n",
    "\n",
    "def coord2vec(lon, lat, h=0):\n",
    "    \"\"\"\n",
    "    A partir da latitude, longitude e altitude, constrói o vetor da posição do ponto\n",
    "    relativa ao centro da terra. Dá o resultado em função do raio da Terra \"R\"\n",
    "\n",
    "    lat: latitude em graus\n",
    "    lon: longitude em graus\n",
    "    hei: altitude em metros\n",
    "    \"\"\"\n",
    "    lon = rad(lon)\n",
    "    lat = rad(lat)\n",
    "    rot = sp.rot_axis3(-lon) * sp.rot_axis2(lat)\n",
    "    mag = R + h\n",
    "    base = sp.Matrix([1, 0, 0])\n",
    "    return vector(mag * rot * base, ECEF)\n",
    "\n",
    "\n",
    "def vec2coord(vector):\n",
    "    \"\"\"\n",
    "    Calcula latitude, longitude e altitude partir do vetor da posição relativa ao\n",
    "    centro da Terra\n",
    "    \"\"\"\n",
    "    tup = vector.to_matrix(ECEF)\n",
    "    # Altitude = distância ao centro - raio da Terra\n",
    "    h = sp.simplify(vector.magnitude() - R)\n",
    "    # Longitude pode ser encontrada pela razão das coordenadas X e Y\n",
    "    lon = sp.simplify(sp.atan2(tup[1], tup[0]))\n",
    "    # Latitude pode ser encontrada pela razão entre a coordenada Z e a projeção no plano XY\n",
    "    r_ = sp.sqrt(tup[0] ** 2 + tup[1] ** 2)\n",
    "    lat = sp.simplify(sp.atan(tup[2] / r_))\n",
    "    return (lon, lat, h)\n",
    "\n",
    "\n",
    "c_ECEF = vector(sp.symbols(\"X:Z\"), ECEF)\n",
    "\n",
    "math(\n",
    "    f\"{sp.latex(c_ECEF.to_matrix(ECEF))}_{{ECEF}} =  \"\n",
    "    + r\"R_z(-lon) R_y(lat) \\begin{bmatrix} 1 \\\\ 0 \\\\ 0 \\end{bmatrix} (R + h)\"\n",
    ")\n",
    "P = coord2vec(lon, lat, h)\n",
    "math(f\"{sp.latex(c_ECEF.to_matrix(ECEF))}_{{ECEF}} =  \" + sp.latex(P.to_matrix(ECEF)))\n",
    "\n",
    "math(\n",
    "    r\"\\begin{bmatrix} lon \\\\ lat \\\\ alt \\end{bmatrix} = \"\n",
    "    + sp.latex(sp.Matrix(vec2coord(c_ECEF)))\n",
    ")\n"
   ]
  },
  {
   "cell_type": "markdown",
   "metadata": {},
   "source": [
    "## As coordenadas da sala de aula são: $\\phi =-15.9890146°$, $\\lambda = -48.0448584°$, $h = 1221\\,\\mathrm{m}$. Qual a coordenada ECEF? Assuma $R = 6378164\\mathrm{m}$"
   ]
  },
  {
   "cell_type": "code",
   "execution_count": 15,
   "metadata": {},
   "outputs": [
    {
     "data": {
      "text/latex": [
       "$\\displaystyle \\left[\\begin{matrix}6379385 \\cos{\\left(0.0888278588888889 \\pi \\right)} \\cos{\\left(0.26691588 \\pi \\right)}\\\\- 6379385 \\sin{\\left(0.26691588 \\pi \\right)} \\cos{\\left(0.0888278588888889 \\pi \\right)}\\\\- 6379385 \\sin{\\left(0.0888278588888889 \\pi \\right)}\\end{matrix}\\right]$"
      ],
      "text/plain": [
       "<IPython.core.display.Math object>"
      ]
     },
     "metadata": {},
     "output_type": "display_data"
    },
    {
     "data": {
      "text/latex": [
       "$\\displaystyle \\left[\\begin{matrix}4099938.0\\\\-4560618.0\\\\-1757221.0\\end{matrix}\\right]$"
      ],
      "text/plain": [
       "<IPython.core.display.Math object>"
      ]
     },
     "metadata": {},
     "output_type": "display_data"
    }
   ],
   "source": [
    "subs9_3 = {\n",
    "    lat:-15.9890146,\n",
    "    lon: -48.0448584,\n",
    "    h: 1221,\n",
    "    R: 6378164\n",
    "}\n",
    "\n",
    "math(sp.latex(P.subs(subs9_3).to_matrix(ECEF)))\n",
    "math(sp.latex(P.evalf(7, subs=subs9_3).to_matrix(ECEF)))"
   ]
  },
  {
   "cell_type": "markdown",
   "metadata": {},
   "source": [
    "## Considere um satélite GPS na posição $\\begin{bmatrix}10981457 & -13087191 & -20360055 \\end{bmatrix}^\\top\\,\\mathrm{[m]}$. Qual a posição desse GPS em relação à sala de aula (em $S_{NED}$)? Quais os ângulos de azimute e elevação desse satélite?"
   ]
  },
  {
   "cell_type": "code",
   "execution_count": 16,
   "metadata": {},
   "outputs": [
    {
     "data": {
      "text/latex": [
       "$\\displaystyle \\left[\\begin{matrix}-14869285.0\\\\-582859.46\\\\-15642501.0\\end{matrix}\\right]$"
      ],
      "text/plain": [
       "Matrix([\n",
       "[-14869285.0],\n",
       "[ -582859.46],\n",
       "[-15642501.0]])"
      ]
     },
     "execution_count": 16,
     "metadata": {},
     "output_type": "execute_result"
    }
   ],
   "source": [
    "P_GPS = vector((10981457, -13087191, -20360055), ECEF)\n",
    "(P_GPS - P).to_matrix(NED).subs({phi: rad(lat), lamda: rad(lon)}).evalf(8, subs=subs9_3)\n"
   ]
  },
  {
   "cell_type": "markdown",
   "metadata": {},
   "source": [
    "# Faça o que se pede:"
   ]
  },
  {
   "cell_type": "markdown",
   "metadata": {},
   "source": [
    "## Em qual sistema é mais fácil definir o vetor rotação angular da Terra? Como é o vetor? Assuma velocidade angular da Terra $\\omega^e$."
   ]
  },
  {
   "cell_type": "markdown",
   "metadata": {},
   "source": [
    "No sistema ECEF a rotação coincide com o eixo $Z$"
   ]
  },
  {
   "cell_type": "code",
   "execution_count": 17,
   "metadata": {},
   "outputs": [
    {
     "data": {
      "text/latex": [
       "$\\displaystyle \\omega_{ECEF} = \\left[\\begin{matrix}0\\\\0\\\\\\omega_{e}\\end{matrix}\\right]$"
      ],
      "text/plain": [
       "<IPython.core.display.Math object>"
      ]
     },
     "metadata": {},
     "output_type": "display_data"
    }
   ],
   "source": [
    "omega_e = sp.symbols(\"omega_e\")\n",
    "omega_e_vec = omega_e * ECEF.z\n",
    "math(r\"\\omega_{ECEF} = \" + sp.latex(omega_e_vec.to_matrix(ECEF)))"
   ]
  },
  {
   "cell_type": "markdown",
   "metadata": {},
   "source": [
    "## Em qual sistema é mais fácil definir a gravidade local? Como é o vetor? Assuma magnitude $g$, ignore o efeito de rotação da Terra."
   ]
  },
  {
   "cell_type": "markdown",
   "metadata": {},
   "source": [
    "No sistema NED a gravidade coincide com o eixo $D$"
   ]
  },
  {
   "cell_type": "code",
   "execution_count": 18,
   "metadata": {},
   "outputs": [
    {
     "data": {
      "text/latex": [
       "$\\displaystyle G_{NED} = \\left[\\begin{matrix}0\\\\0\\\\g\\end{matrix}\\right]$"
      ],
      "text/plain": [
       "<IPython.core.display.Math object>"
      ]
     },
     "metadata": {},
     "output_type": "display_data"
    }
   ],
   "source": [
    "g = sp.symbols(\"g\")\n",
    "g_vec = g * NED.z\n",
    "math(r\"G_{NED} = \" + sp.latex(g_vec.to_matrix(NED)))"
   ]
  },
  {
   "cell_type": "markdown",
   "metadata": {},
   "source": [
    "## Represente o vetor rotação angular da Terra em $S_{NED}$ e o vetor gravidade local em $S_{ECEF}$"
   ]
  },
  {
   "cell_type": "code",
   "execution_count": 19,
   "metadata": {},
   "outputs": [
    {
     "data": {
      "text/latex": [
       "$\\displaystyle \\omega_{NED} = \\left[\\begin{matrix}\\omega_{e} \\cos{\\left(\\phi \\right)}\\\\0\\\\- \\omega_{e} \\sin{\\left(\\phi \\right)}\\end{matrix}\\right]$"
      ],
      "text/plain": [
       "<IPython.core.display.Math object>"
      ]
     },
     "metadata": {},
     "output_type": "display_data"
    },
    {
     "data": {
      "text/latex": [
       "$\\displaystyle G_{ECEF} = \\left[\\begin{matrix}- g \\cos{\\left(\\lambda \\right)} \\cos{\\left(\\phi \\right)}\\\\- g \\sin{\\left(\\lambda \\right)} \\cos{\\left(\\phi \\right)}\\\\- g \\sin{\\left(\\phi \\right)}\\end{matrix}\\right]$"
      ],
      "text/plain": [
       "<IPython.core.display.Math object>"
      ]
     },
     "metadata": {},
     "output_type": "display_data"
    }
   ],
   "source": [
    "math(r\"\\omega_{NED} = \" + sp.latex(omega_e_vec.to_matrix(NED)))\n",
    "math(r\"G_{ECEF} = \" + sp.latex(g_vec.to_matrix(ECEF)))"
   ]
  },
  {
   "cell_type": "markdown",
   "metadata": {},
   "source": [
    "# Considere  um  sistema  de  referência $S_{ECEF}$ com  centro  no  centro  da  Terra  e  que rotaciona com ela. O eixo $Z$ está alinhado com o eixo de rotação da Terra, oeixo $X$ passa na latitude $\\phi = 0°$ e longitude $\\lambda = 0°$ e o eixo $Y$ completa o sistema dextrogiro."
   ]
  },
  {
   "cell_type": "code",
   "execution_count": 20,
   "metadata": {},
   "outputs": [],
   "source": [
    "lamda, phi = sp.symbols(\"lambda, phi\")\n",
    "ENU = ECEF.orientnew(\n",
    "    \"ENU\", \"Body\", [rad(90) + lamda, rad(90) - phi, 0], rot_order=\"zxy\"\n",
    ")"
   ]
  },
  {
   "cell_type": "markdown",
   "metadata": {},
   "source": [
    "## Encontre $D_{ENU}^{ECEF}$ e $D_{ECEF}^{ENU}$.   Informações:   ache   primeiro   uma   matriz   de transformação  que  faça  os  eixos  $X$,$Y$,  e  $Z$  do  sistema  ENU  e  ECEF  coincidirem para $\\phi = 0°$ e longitude $\\lambda = 0°$. Então, aplique as rotações $\\lambda$ e $\\phi$."
   ]
  },
  {
   "cell_type": "code",
   "execution_count": 21,
   "metadata": {},
   "outputs": [
    {
     "data": {
      "text/latex": [
       "$\\displaystyle D_{ENU}^{ECEF} = R_x( 90° -\\phi ) R_z( 90° + \\lambda )$"
      ],
      "text/plain": [
       "<IPython.core.display.Math object>"
      ]
     },
     "metadata": {},
     "output_type": "display_data"
    },
    {
     "data": {
      "text/latex": [
       "$\\displaystyle D_{ENU}^{ECEF} = \\left[\\begin{matrix}- \\sin{\\left(\\lambda \\right)} & \\cos{\\left(\\lambda \\right)} & 0\\\\- \\sin{\\left(\\phi \\right)} \\cos{\\left(\\lambda \\right)} & - \\sin{\\left(\\lambda \\right)} \\sin{\\left(\\phi \\right)} & \\cos{\\left(\\phi \\right)}\\\\\\cos{\\left(\\lambda \\right)} \\cos{\\left(\\phi \\right)} & \\sin{\\left(\\lambda \\right)} \\cos{\\left(\\phi \\right)} & \\sin{\\left(\\phi \\right)}\\end{matrix}\\right]$"
      ],
      "text/plain": [
       "<IPython.core.display.Math object>"
      ]
     },
     "metadata": {},
     "output_type": "display_data"
    },
    {
     "data": {
      "text/latex": [
       "$\\displaystyle D_{ECEF}^{ENU} = \\left[\\begin{matrix}- \\sin{\\left(\\lambda \\right)} & - \\sin{\\left(\\phi \\right)} \\cos{\\left(\\lambda \\right)} & \\cos{\\left(\\lambda \\right)} \\cos{\\left(\\phi \\right)}\\\\\\cos{\\left(\\lambda \\right)} & - \\sin{\\left(\\lambda \\right)} \\sin{\\left(\\phi \\right)} & \\sin{\\left(\\lambda \\right)} \\cos{\\left(\\phi \\right)}\\\\0 & \\cos{\\left(\\phi \\right)} & \\sin{\\left(\\phi \\right)}\\end{matrix}\\right]$"
      ],
      "text/plain": [
       "<IPython.core.display.Math object>"
      ]
     },
     "metadata": {},
     "output_type": "display_data"
    }
   ],
   "source": [
    "math(\"D_{ENU}^{ECEF} = \" + r\"R_x( 90° -\\phi ) R_z( 90° + \\lambda )\")\n",
    "math(\"D_{ENU}^{ECEF} = \" + sp.latex(ENU.dcm(ECEF)))\n",
    "math(\"D_{ECEF}^{ENU} = \" + sp.latex(ECEF.dcm(ENU)))"
   ]
  },
  {
   "cell_type": "markdown",
   "metadata": {},
   "source": [
    "## Represente o vetor rotação angular da Terra em $S_{ENU}$"
   ]
  },
  {
   "cell_type": "code",
   "execution_count": 22,
   "metadata": {},
   "outputs": [
    {
     "data": {
      "text/latex": [
       "$\\displaystyle \\left[\\begin{matrix}0\\\\\\omega_{e} \\cos{\\left(\\phi \\right)}\\\\\\omega_{e} \\sin{\\left(\\phi \\right)}\\end{matrix}\\right]$"
      ],
      "text/plain": [
       "<IPython.core.display.Math object>"
      ]
     },
     "metadata": {},
     "output_type": "display_data"
    }
   ],
   "source": [
    "math(sp.latex(omega_e_vec.to_matrix(ENU)))"
   ]
  },
  {
   "cell_type": "markdown",
   "metadata": {},
   "source": [
    "## Represente o vetor gravidade local em $S_{ENU}$"
   ]
  },
  {
   "cell_type": "code",
   "execution_count": 29,
   "metadata": {},
   "outputs": [
    {
     "data": {
      "text/latex": [
       "$\\displaystyle \\left[\\begin{matrix}0\\\\0\\\\- g\\end{matrix}\\right]$"
      ],
      "text/plain": [
       "<IPython.core.display.Math object>"
      ]
     },
     "metadata": {},
     "output_type": "display_data"
    }
   ],
   "source": [
    "math(sp.latex(sp.simplify(g_vec.to_matrix(ENU))))"
   ]
  },
  {
   "cell_type": "markdown",
   "metadata": {},
   "source": [
    "## Encontre $D_{NED}^{ENU}$ e $D_{ENU}^{NED}$"
   ]
  },
  {
   "cell_type": "code",
   "execution_count": 24,
   "metadata": {},
   "outputs": [
    {
     "data": {
      "text/latex": [
       "$\\displaystyle D_{ENU}^{NED} = D_{ENU}^{ECEF} D_{ECEF}^{NED}$"
      ],
      "text/plain": [
       "<IPython.core.display.Math object>"
      ]
     },
     "metadata": {},
     "output_type": "display_data"
    },
    {
     "data": {
      "text/latex": [
       "$\\displaystyle D_{ENU}^{NED} = \\left[\\begin{matrix}0 & 1 & 0\\\\1 & 0 & 0\\\\0 & 0 & -1\\end{matrix}\\right]$"
      ],
      "text/plain": [
       "<IPython.core.display.Math object>"
      ]
     },
     "metadata": {},
     "output_type": "display_data"
    },
    {
     "data": {
      "text/latex": [
       "$\\displaystyle D_{NED}^{ENU} = \\left[\\begin{matrix}0 & 1 & 0\\\\1 & 0 & 0\\\\0 & 0 & -1\\end{matrix}\\right]$"
      ],
      "text/plain": [
       "<IPython.core.display.Math object>"
      ]
     },
     "metadata": {},
     "output_type": "display_data"
    }
   ],
   "source": [
    "math(\"D_{ENU}^{NED} = D_{ENU}^{ECEF} D_{ECEF}^{NED}\")\n",
    "math(\"D_{ENU}^{NED} = \" + sp.latex(sp.simplify(ENU.dcm(NED))))\n",
    "math(\"D_{NED}^{ENU} = \" + sp.latex(sp.simplify(NED.dcm(ENU))))"
   ]
  },
  {
   "cell_type": "markdown",
   "metadata": {},
   "source": [
    "# Sejam os telescópios abaixo:"
   ]
  },
  {
   "cell_type": "markdown",
   "metadata": {},
   "source": [
    "\n",
    "Ambos  os  telescópios  possuem  2  graus  de liberdade,  representados  pelos  ângulos $\\alpha$ e $\\beta$ no telescópio $T_1$ e  $\\gamma$ e $\\delta$ em $T_2$. O telescópio $T_1$ está observando uma estrela. Para que a lente de T1 aponte  para a estrela, $\\alpha = 30°$ e $\\beta = 45°$. Deseja-se  que o telescópio $T_2$ aponte sua lente para a mesma estrela. Quais devem ser os valoresde $\\gamma$ e $\\delta$ para que isso ocorra?"
   ]
  },
  {
   "cell_type": "markdown",
   "metadata": {},
   "source": [
    "Informações:\n",
    " - Os telescópios estão suficientemente próximos, e estão ambos nivelados em relação ao solo, de modo que a estrela está na mesma direção para ambos\n",
    " - Quando $\\alpha = \\beta = \\gamma = \\delta = 0$, os eixos x, y e z de ambos os telescópios se alinham.Veja que, nesse caso,T1 aponta para cima e T2 aponta para “frente”.\n",
    " - As  rotaçõessão  todas  definidas  na  direção  positiva,  e  eixos  seguem  a  regra  da  mão direita.\n",
    " - Essa  questão  tem  dificuldade  maior  que  as  anteriores. O  correto  entendimento  e execução, entretanto, mostra que o aluno dominou o tema sistemas de referência."
   ]
  },
  {
   "cell_type": "markdown",
   "metadata": {},
   "source": [
    "Primeiro, vamos definir um sistema de referência fixo $ref$ e dizer que ele corresponde aos eixos x, y, z de ambos os telescópios quando os ângulos de rotação são iguais a 0. Também vamos definir os símbolos relevantes do problema, assim como a matriz de substituições da questão"
   ]
  },
  {
   "cell_type": "code",
   "execution_count": 25,
   "metadata": {},
   "outputs": [],
   "source": [
    "alpha, beta, gamma, delta = sp.symbols(\"alpha, beta, gamma, delta\")\n",
    "subs12 = {alpha: rad(30), beta: rad(45)}\n",
    "ref = vec.ReferenceFrame(\"ref\")\n"
   ]
  },
  {
   "cell_type": "markdown",
   "metadata": {},
   "source": [
    "Então, vamos definir os sistemas $T_1$ e $T_2$. Também definimos o vetor direção da lente, correspondente aos eixos z e x dos respectivos telescópios\n",
    "\n",
    "No caso de $T_1$, podemos observar que o sistema sofre uma rotação no eixo $y_1$, coincidente com o eixo $y_{ref}$, e uma rotação do eixo $x_1$, que sofre a rotação anterior.\n",
    "\n",
    "De maneira parecida, em $T_2$, o sistema sofre rotação no eixo $z_2$, coincidente com o eixo $z_{ref}$, e uma rotação no eixo $y_2$, que sofre a rotação anterior."
   ]
  },
  {
   "cell_type": "code",
   "execution_count": 26,
   "metadata": {},
   "outputs": [
    {
     "data": {
      "text/latex": [
       "$\\displaystyle D_{T_1}^{ref} = R_x(\\beta) R_y(\\alpha)$"
      ],
      "text/plain": [
       "<IPython.core.display.Math object>"
      ]
     },
     "metadata": {},
     "output_type": "display_data"
    },
    {
     "data": {
      "text/latex": [
       "$\\displaystyle D_{T_1}^{ref} = \\left[\\begin{matrix}\\cos{\\left(\\alpha \\right)} & 0 & - \\sin{\\left(\\alpha \\right)}\\\\\\sin{\\left(\\alpha \\right)} \\sin{\\left(\\beta \\right)} & \\cos{\\left(\\beta \\right)} & \\sin{\\left(\\beta \\right)} \\cos{\\left(\\alpha \\right)}\\\\\\sin{\\left(\\alpha \\right)} \\cos{\\left(\\beta \\right)} & - \\sin{\\left(\\beta \\right)} & \\cos{\\left(\\alpha \\right)} \\cos{\\left(\\beta \\right)}\\end{matrix}\\right]$"
      ],
      "text/plain": [
       "<IPython.core.display.Math object>"
      ]
     },
     "metadata": {},
     "output_type": "display_data"
    },
    {
     "data": {
      "text/latex": [
       "$\\displaystyle D_{T_2}^{ref} = R_y(\\delta) R_z(\\gamma)$"
      ],
      "text/plain": [
       "<IPython.core.display.Math object>"
      ]
     },
     "metadata": {},
     "output_type": "display_data"
    },
    {
     "data": {
      "text/latex": [
       "$\\displaystyle D_{T_2}^{ref} = \\left[\\begin{matrix}\\cos{\\left(\\delta \\right)} \\cos{\\left(\\gamma \\right)} & \\sin{\\left(\\gamma \\right)} \\cos{\\left(\\delta \\right)} & - \\sin{\\left(\\delta \\right)}\\\\- \\sin{\\left(\\gamma \\right)} & \\cos{\\left(\\gamma \\right)} & 0\\\\\\sin{\\left(\\delta \\right)} \\cos{\\left(\\gamma \\right)} & \\sin{\\left(\\delta \\right)} \\sin{\\left(\\gamma \\right)} & \\cos{\\left(\\delta \\right)}\\end{matrix}\\right]$"
      ],
      "text/plain": [
       "<IPython.core.display.Math object>"
      ]
     },
     "metadata": {},
     "output_type": "display_data"
    },
    {
     "data": {
      "text/latex": [
       "$\\displaystyle {V_1}_{T_1} = \\left[\\begin{matrix}0\\\\0\\\\1\\end{matrix}\\right]$"
      ],
      "text/plain": [
       "<IPython.core.display.Math object>"
      ]
     },
     "metadata": {},
     "output_type": "display_data"
    },
    {
     "data": {
      "text/latex": [
       "$\\displaystyle {V_2}_{T_2} = \\left[\\begin{matrix}1\\\\0\\\\0\\end{matrix}\\right]$"
      ],
      "text/plain": [
       "<IPython.core.display.Math object>"
      ]
     },
     "metadata": {},
     "output_type": "display_data"
    }
   ],
   "source": [
    "T1 = ref.orientnew(\"T_1\", \"body\", [alpha, beta, 0], \"yxz\")\n",
    "T2 = ref.orientnew(\"T_2\", \"body\", [gamma, delta, 0], \"zyx\")\n",
    "\n",
    "V1 = T1.z\n",
    "V2 = T2.x\n",
    "\n",
    "math(r\"D_{T_1}^{ref} = R_x(\\beta) R_y(\\alpha)\")\n",
    "math(r\"D_{T_1}^{ref} = \" + sp.latex(T1.dcm(ref)))\n",
    "math(r\"D_{T_2}^{ref} = R_y(\\delta) R_z(\\gamma)\")\n",
    "math(r\"D_{T_2}^{ref} = \" + sp.latex(T2.dcm(ref)))\n",
    "\n",
    "math(\"{V_1}_{T_1} = \" + sp.latex(V1.to_matrix(T1)))\n",
    "math(\"{V_2}_{T_2} = \" + sp.latex(V2.to_matrix(T2)))"
   ]
  },
  {
   "cell_type": "markdown",
   "metadata": {},
   "source": [
    "Para resolver o problema, então, precisamos resolver $V_1 = V_2$. Se expressarmos esses vetores em um sistema comum, podemos resolver esse problema como um sistema de equações nos vetores ortonormais do sistema."
   ]
  },
  {
   "cell_type": "code",
   "execution_count": 27,
   "metadata": {},
   "outputs": [
    {
     "data": {
      "text/latex": [
       "$\\displaystyle V_1 = V_2$"
      ],
      "text/plain": [
       "<IPython.core.display.Math object>"
      ]
     },
     "metadata": {},
     "output_type": "display_data"
    },
    {
     "data": {
      "text/latex": [
       "$\\displaystyle \\left[\\begin{matrix}0\\\\0\\\\1\\end{matrix}\\right]=\\left[\\begin{matrix}\\sin{\\left(\\alpha \\right)} \\sin{\\left(\\delta \\right)} + \\cos{\\left(\\alpha \\right)} \\cos{\\left(\\delta \\right)} \\cos{\\left(\\gamma \\right)}\\\\\\sin{\\left(\\alpha \\right)} \\sin{\\left(\\beta \\right)} \\cos{\\left(\\delta \\right)} \\cos{\\left(\\gamma \\right)} - \\sin{\\left(\\beta \\right)} \\sin{\\left(\\delta \\right)} \\cos{\\left(\\alpha \\right)} + \\sin{\\left(\\gamma \\right)} \\cos{\\left(\\beta \\right)} \\cos{\\left(\\delta \\right)}\\\\\\sin{\\left(\\alpha \\right)} \\cos{\\left(\\beta \\right)} \\cos{\\left(\\delta \\right)} \\cos{\\left(\\gamma \\right)} - \\sin{\\left(\\beta \\right)} \\sin{\\left(\\gamma \\right)} \\cos{\\left(\\delta \\right)} - \\sin{\\left(\\delta \\right)} \\cos{\\left(\\alpha \\right)} \\cos{\\left(\\beta \\right)}\\end{matrix}\\right]\\quad (T_1)$"
      ],
      "text/plain": [
       "<IPython.core.display.Math object>"
      ]
     },
     "metadata": {},
     "output_type": "display_data"
    },
    {
     "data": {
      "text/latex": [
       "$\\displaystyle \\left[\\begin{matrix}\\sin{\\left(\\alpha \\right)} \\cos{\\left(\\beta \\right)} \\cos{\\left(\\delta \\right)} \\cos{\\left(\\gamma \\right)} - \\sin{\\left(\\beta \\right)} \\sin{\\left(\\gamma \\right)} \\cos{\\left(\\delta \\right)} - \\sin{\\left(\\delta \\right)} \\cos{\\left(\\alpha \\right)} \\cos{\\left(\\beta \\right)}\\\\- \\sin{\\left(\\alpha \\right)} \\sin{\\left(\\gamma \\right)} \\cos{\\left(\\beta \\right)} - \\sin{\\left(\\beta \\right)} \\cos{\\left(\\gamma \\right)}\\\\\\sin{\\left(\\alpha \\right)} \\sin{\\left(\\delta \\right)} \\cos{\\left(\\beta \\right)} \\cos{\\left(\\gamma \\right)} - \\sin{\\left(\\beta \\right)} \\sin{\\left(\\delta \\right)} \\sin{\\left(\\gamma \\right)} + \\cos{\\left(\\alpha \\right)} \\cos{\\left(\\beta \\right)} \\cos{\\left(\\delta \\right)}\\end{matrix}\\right]=\\left[\\begin{matrix}1\\\\0\\\\0\\end{matrix}\\right]\\quad (T_2)$"
      ],
      "text/plain": [
       "<IPython.core.display.Math object>"
      ]
     },
     "metadata": {},
     "output_type": "display_data"
    },
    {
     "data": {
      "text/latex": [
       "$\\displaystyle \\left[\\begin{matrix}\\sin{\\left(\\alpha \\right)} \\cos{\\left(\\beta \\right)}\\\\- \\sin{\\left(\\beta \\right)}\\\\\\cos{\\left(\\alpha \\right)} \\cos{\\left(\\beta \\right)}\\end{matrix}\\right] = \\left[\\begin{matrix}\\cos{\\left(\\delta \\right)} \\cos{\\left(\\gamma \\right)}\\\\\\sin{\\left(\\gamma \\right)} \\cos{\\left(\\delta \\right)}\\\\- \\sin{\\left(\\delta \\right)}\\end{matrix}\\right]\\quad (ref)$"
      ],
      "text/plain": [
       "<IPython.core.display.Math object>"
      ]
     },
     "metadata": {},
     "output_type": "display_data"
    }
   ],
   "source": [
    "math(\"V_1 = V_2\")\n",
    "math(sp.latex(V1.to_matrix(T1)) + \"=\" + sp.latex(V2.to_matrix(T1)) + r\"\\quad (T_1)\")\n",
    "math(sp.latex(V1.to_matrix(T2)) + \"=\" + sp.latex(V2.to_matrix(T2)) + r\"\\quad (T_2)\")\n",
    "math(sp.latex(eq := sp.Eq(V1.to_matrix(ref), V2.to_matrix(ref))) + r\"\\quad (ref)\")"
   ]
  },
  {
   "cell_type": "markdown",
   "metadata": {},
   "source": [
    "Escolhemos o sistema $ref$ e substituimos $\\alpha$ e $\\beta$ nas equações, então, para obter o seguinte resultado:"
   ]
  },
  {
   "cell_type": "code",
   "execution_count": 28,
   "metadata": {},
   "outputs": [
    {
     "data": {
      "text/latex": [
       "$\\displaystyle \\left[\\begin{matrix}\\sin{\\left(\\alpha \\right)} \\cos{\\left(\\beta \\right)}\\\\- \\sin{\\left(\\beta \\right)}\\\\\\cos{\\left(\\alpha \\right)} \\cos{\\left(\\beta \\right)}\\end{matrix}\\right] = \\left[\\begin{matrix}\\cos{\\left(\\delta \\right)} \\cos{\\left(\\gamma \\right)}\\\\\\sin{\\left(\\gamma \\right)} \\cos{\\left(\\delta \\right)}\\\\- \\sin{\\left(\\delta \\right)}\\end{matrix}\\right]$"
      ],
      "text/plain": [
       "<IPython.core.display.Math object>"
      ]
     },
     "metadata": {},
     "output_type": "display_data"
    },
    {
     "data": {
      "text/latex": [
       "$\\displaystyle \\left[\\begin{matrix}\\frac{\\sqrt{2}}{4}\\\\- \\frac{\\sqrt{2}}{2}\\\\\\frac{\\sqrt{6}}{4}\\end{matrix}\\right] = \\left[\\begin{matrix}\\cos{\\left(\\delta \\right)} \\cos{\\left(\\gamma \\right)}\\\\\\sin{\\left(\\gamma \\right)} \\cos{\\left(\\delta \\right)}\\\\- \\sin{\\left(\\delta \\right)}\\end{matrix}\\right]$"
      ],
      "text/plain": [
       "<IPython.core.display.Math object>"
      ]
     },
     "metadata": {},
     "output_type": "display_data"
    },
    {
     "data": {
      "text/latex": [
       "$\\displaystyle \\left[ \\left( \\operatorname{asin}{\\left(\\frac{\\sqrt{6}}{4} \\right)} + \\pi, \\  \\pi - \\operatorname{asin}{\\left(\\frac{2 \\sqrt{5}}{5} \\right)}\\right), \\  \\left( - \\operatorname{asin}{\\left(\\frac{\\sqrt{6}}{4} \\right)}, \\  - \\operatorname{asin}{\\left(\\frac{2 \\sqrt{5}}{5} \\right)}\\right)\\right]$"
      ],
      "text/plain": [
       "<IPython.core.display.Math object>"
      ]
     },
     "metadata": {},
     "output_type": "display_data"
    }
   ],
   "source": [
    "math(sp.latex(eq))\n",
    "math(sp.latex(eq.subs(subs12)))\n",
    "math(sp.latex(sp.solve(eq.subs(subs12), (delta, gamma))))"
   ]
  }
 ],
 "metadata": {
  "interpreter": {
   "hash": "cc378375604d714125766041ac36b5bce9791f9b4638cf9ccf8affbc63e028c6"
  },
  "kernelspec": {
   "display_name": "Python 3.9.5 64-bit ('main': conda)",
   "name": "python3"
  },
  "language_info": {
   "codemirror_mode": {
    "name": "ipython",
    "version": 3
   },
   "file_extension": ".py",
   "mimetype": "text/x-python",
   "name": "python",
   "nbconvert_exporter": "python",
   "pygments_lexer": "ipython3",
   "version": "3.9.5"
  },
  "orig_nbformat": 4
 },
 "nbformat": 4,
 "nbformat_minor": 2
}
